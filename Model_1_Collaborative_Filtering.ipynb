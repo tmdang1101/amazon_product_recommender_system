{
  "cells": [
    {
      "cell_type": "markdown",
      "metadata": {
        "id": "view-in-github",
        "colab_type": "text"
      },
      "source": [
        "<a href=\"https://colab.research.google.com/github/tmdang1101/amazon_product_recommender_system/blob/main/Model_1_Collaborative_Filtering.ipynb\" target=\"_parent\"><img src=\"https://colab.research.google.com/assets/colab-badge.svg\" alt=\"Open In Colab\"/></a>"
      ]
    },
    {
      "cell_type": "code",
      "source": [
        "# Import libraries\n",
        "import numpy as np\n",
        "import pandas as pd\n",
        "import scipy.stats as ss\n",
        "import seaborn as sns\n",
        "import matplotlib.pyplot as plt\n",
        "\n",
        "import gzip\n",
        "import json"
      ],
      "metadata": {
        "id": "8Y5_xlAnYUZl"
      },
      "id": "8Y5_xlAnYUZl",
      "execution_count": 5,
      "outputs": []
    },
    {
      "cell_type": "code",
      "source": [
        "# Connects this notebook to Google Drive\n",
        "import os\n",
        "from google.colab import drive\n",
        "drive.mount('/content/drive', force_remount=True)\n",
        "\n",
        "pathname = \"/content/drive/My Drive/Recommender System/\"\n",
        "os.chdir(pathname)"
      ],
      "metadata": {
        "colab": {
          "base_uri": "https://localhost:8080/"
        },
        "id": "11NgBLSj3mRT",
        "outputId": "dc74fa06-4a77-4e59-faa8-3e835181a98d"
      },
      "id": "11NgBLSj3mRT",
      "execution_count": 6,
      "outputs": [
        {
          "output_type": "stream",
          "name": "stdout",
          "text": [
            "Mounted at /content/drive\n"
          ]
        }
      ]
    },
    {
      "cell_type": "code",
      "execution_count": 7,
      "id": "bd42f124",
      "metadata": {
        "id": "bd42f124"
      },
      "outputs": [],
      "source": [
        "def parse(path):\n",
        "    g = gzip.open(path, 'rb')\n",
        "    for l in g:\n",
        "        yield json.loads(l)\n",
        "\n",
        "def getDF(path):\n",
        "    i = 0\n",
        "    df = {}\n",
        "    for d in parse(path):\n",
        "        df[i] = d\n",
        "        i += 1\n",
        "    return pd.DataFrame.from_dict(df, orient='index')\n",
        "\n",
        "df = getDF('/content/drive/My Drive/Recommender System/Data/Movies_and_TV_5.json.gz')"
      ]
    },
    {
      "cell_type": "code",
      "execution_count": 8,
      "id": "7308dbe2",
      "metadata": {
        "id": "7308dbe2",
        "outputId": "4674064d-e600-4985-e522-0990d796241e",
        "colab": {
          "base_uri": "https://localhost:8080/",
          "height": 337
        }
      },
      "outputs": [
        {
          "output_type": "execute_result",
          "data": {
            "text/plain": [
              "   overall  verified   reviewTime      reviewerID        asin  \\\n",
              "0      5.0      True   11 9, 2012  A2M1CU2IRZG0K9  0005089549   \n",
              "1      5.0      True  12 30, 2011   AFTUJYISOFHY6  0005089549   \n",
              "2      5.0      True  04 21, 2005  A3JVF9Y53BEOGC  000503860X   \n",
              "3      5.0      True   04 6, 2005  A12VPEOEZS1KTC  000503860X   \n",
              "4      5.0      True   12 3, 2010   ATLZNVLYKP9AZ  000503860X   \n",
              "\n",
              "                      style            reviewerName  \\\n",
              "0  {'Format:': ' VHS Tape'}                   Terri   \n",
              "1  {'Format:': ' VHS Tape'}  Melissa D. Abercrombie   \n",
              "2       {'Format:': ' DVD'}        Anthony Thompson   \n",
              "3       {'Format:': ' DVD'}                JadeRain   \n",
              "4       {'Format:': ' DVD'}               T. Fisher   \n",
              "\n",
              "                                          reviewText  \\\n",
              "0  So sorry I didn't purchase this years ago when...   \n",
              "1  Believe me when I tell you that you will recei...   \n",
              "2  I have seen X live many times, both in the ear...   \n",
              "3  I was so excited for this!  Finally, a live co...   \n",
              "4  X is one of the best punk bands ever. I don't ...   \n",
              "\n",
              "                               summary  unixReviewTime vote image  \n",
              "0                             Amazing!      1352419200  NaN   NaN  \n",
              "1  Great Gospel VHS of the Cathedrals!      1325203200  NaN   NaN  \n",
              "2     A great document of a great band      1114041600   11   NaN  \n",
              "3                      YES!!  X LIVE!!      1112745600    5   NaN  \n",
              "4                  X have still got it      1291334400    5   NaN  "
            ],
            "text/html": [
              "\n",
              "  <div id=\"df-c5167c7c-4870-4140-adc6-d56ef3e67d47\">\n",
              "    <div class=\"colab-df-container\">\n",
              "      <div>\n",
              "<style scoped>\n",
              "    .dataframe tbody tr th:only-of-type {\n",
              "        vertical-align: middle;\n",
              "    }\n",
              "\n",
              "    .dataframe tbody tr th {\n",
              "        vertical-align: top;\n",
              "    }\n",
              "\n",
              "    .dataframe thead th {\n",
              "        text-align: right;\n",
              "    }\n",
              "</style>\n",
              "<table border=\"1\" class=\"dataframe\">\n",
              "  <thead>\n",
              "    <tr style=\"text-align: right;\">\n",
              "      <th></th>\n",
              "      <th>overall</th>\n",
              "      <th>verified</th>\n",
              "      <th>reviewTime</th>\n",
              "      <th>reviewerID</th>\n",
              "      <th>asin</th>\n",
              "      <th>style</th>\n",
              "      <th>reviewerName</th>\n",
              "      <th>reviewText</th>\n",
              "      <th>summary</th>\n",
              "      <th>unixReviewTime</th>\n",
              "      <th>vote</th>\n",
              "      <th>image</th>\n",
              "    </tr>\n",
              "  </thead>\n",
              "  <tbody>\n",
              "    <tr>\n",
              "      <th>0</th>\n",
              "      <td>5.0</td>\n",
              "      <td>True</td>\n",
              "      <td>11 9, 2012</td>\n",
              "      <td>A2M1CU2IRZG0K9</td>\n",
              "      <td>0005089549</td>\n",
              "      <td>{'Format:': ' VHS Tape'}</td>\n",
              "      <td>Terri</td>\n",
              "      <td>So sorry I didn't purchase this years ago when...</td>\n",
              "      <td>Amazing!</td>\n",
              "      <td>1352419200</td>\n",
              "      <td>NaN</td>\n",
              "      <td>NaN</td>\n",
              "    </tr>\n",
              "    <tr>\n",
              "      <th>1</th>\n",
              "      <td>5.0</td>\n",
              "      <td>True</td>\n",
              "      <td>12 30, 2011</td>\n",
              "      <td>AFTUJYISOFHY6</td>\n",
              "      <td>0005089549</td>\n",
              "      <td>{'Format:': ' VHS Tape'}</td>\n",
              "      <td>Melissa D. Abercrombie</td>\n",
              "      <td>Believe me when I tell you that you will recei...</td>\n",
              "      <td>Great Gospel VHS of the Cathedrals!</td>\n",
              "      <td>1325203200</td>\n",
              "      <td>NaN</td>\n",
              "      <td>NaN</td>\n",
              "    </tr>\n",
              "    <tr>\n",
              "      <th>2</th>\n",
              "      <td>5.0</td>\n",
              "      <td>True</td>\n",
              "      <td>04 21, 2005</td>\n",
              "      <td>A3JVF9Y53BEOGC</td>\n",
              "      <td>000503860X</td>\n",
              "      <td>{'Format:': ' DVD'}</td>\n",
              "      <td>Anthony Thompson</td>\n",
              "      <td>I have seen X live many times, both in the ear...</td>\n",
              "      <td>A great document of a great band</td>\n",
              "      <td>1114041600</td>\n",
              "      <td>11</td>\n",
              "      <td>NaN</td>\n",
              "    </tr>\n",
              "    <tr>\n",
              "      <th>3</th>\n",
              "      <td>5.0</td>\n",
              "      <td>True</td>\n",
              "      <td>04 6, 2005</td>\n",
              "      <td>A12VPEOEZS1KTC</td>\n",
              "      <td>000503860X</td>\n",
              "      <td>{'Format:': ' DVD'}</td>\n",
              "      <td>JadeRain</td>\n",
              "      <td>I was so excited for this!  Finally, a live co...</td>\n",
              "      <td>YES!!  X LIVE!!</td>\n",
              "      <td>1112745600</td>\n",
              "      <td>5</td>\n",
              "      <td>NaN</td>\n",
              "    </tr>\n",
              "    <tr>\n",
              "      <th>4</th>\n",
              "      <td>5.0</td>\n",
              "      <td>True</td>\n",
              "      <td>12 3, 2010</td>\n",
              "      <td>ATLZNVLYKP9AZ</td>\n",
              "      <td>000503860X</td>\n",
              "      <td>{'Format:': ' DVD'}</td>\n",
              "      <td>T. Fisher</td>\n",
              "      <td>X is one of the best punk bands ever. I don't ...</td>\n",
              "      <td>X have still got it</td>\n",
              "      <td>1291334400</td>\n",
              "      <td>5</td>\n",
              "      <td>NaN</td>\n",
              "    </tr>\n",
              "  </tbody>\n",
              "</table>\n",
              "</div>\n",
              "      <button class=\"colab-df-convert\" onclick=\"convertToInteractive('df-c5167c7c-4870-4140-adc6-d56ef3e67d47')\"\n",
              "              title=\"Convert this dataframe to an interactive table.\"\n",
              "              style=\"display:none;\">\n",
              "        \n",
              "  <svg xmlns=\"http://www.w3.org/2000/svg\" height=\"24px\"viewBox=\"0 0 24 24\"\n",
              "       width=\"24px\">\n",
              "    <path d=\"M0 0h24v24H0V0z\" fill=\"none\"/>\n",
              "    <path d=\"M18.56 5.44l.94 2.06.94-2.06 2.06-.94-2.06-.94-.94-2.06-.94 2.06-2.06.94zm-11 1L8.5 8.5l.94-2.06 2.06-.94-2.06-.94L8.5 2.5l-.94 2.06-2.06.94zm10 10l.94 2.06.94-2.06 2.06-.94-2.06-.94-.94-2.06-.94 2.06-2.06.94z\"/><path d=\"M17.41 7.96l-1.37-1.37c-.4-.4-.92-.59-1.43-.59-.52 0-1.04.2-1.43.59L10.3 9.45l-7.72 7.72c-.78.78-.78 2.05 0 2.83L4 21.41c.39.39.9.59 1.41.59.51 0 1.02-.2 1.41-.59l7.78-7.78 2.81-2.81c.8-.78.8-2.07 0-2.86zM5.41 20L4 18.59l7.72-7.72 1.47 1.35L5.41 20z\"/>\n",
              "  </svg>\n",
              "      </button>\n",
              "      \n",
              "  <style>\n",
              "    .colab-df-container {\n",
              "      display:flex;\n",
              "      flex-wrap:wrap;\n",
              "      gap: 12px;\n",
              "    }\n",
              "\n",
              "    .colab-df-convert {\n",
              "      background-color: #E8F0FE;\n",
              "      border: none;\n",
              "      border-radius: 50%;\n",
              "      cursor: pointer;\n",
              "      display: none;\n",
              "      fill: #1967D2;\n",
              "      height: 32px;\n",
              "      padding: 0 0 0 0;\n",
              "      width: 32px;\n",
              "    }\n",
              "\n",
              "    .colab-df-convert:hover {\n",
              "      background-color: #E2EBFA;\n",
              "      box-shadow: 0px 1px 2px rgba(60, 64, 67, 0.3), 0px 1px 3px 1px rgba(60, 64, 67, 0.15);\n",
              "      fill: #174EA6;\n",
              "    }\n",
              "\n",
              "    [theme=dark] .colab-df-convert {\n",
              "      background-color: #3B4455;\n",
              "      fill: #D2E3FC;\n",
              "    }\n",
              "\n",
              "    [theme=dark] .colab-df-convert:hover {\n",
              "      background-color: #434B5C;\n",
              "      box-shadow: 0px 1px 3px 1px rgba(0, 0, 0, 0.15);\n",
              "      filter: drop-shadow(0px 1px 2px rgba(0, 0, 0, 0.3));\n",
              "      fill: #FFFFFF;\n",
              "    }\n",
              "  </style>\n",
              "\n",
              "      <script>\n",
              "        const buttonEl =\n",
              "          document.querySelector('#df-c5167c7c-4870-4140-adc6-d56ef3e67d47 button.colab-df-convert');\n",
              "        buttonEl.style.display =\n",
              "          google.colab.kernel.accessAllowed ? 'block' : 'none';\n",
              "\n",
              "        async function convertToInteractive(key) {\n",
              "          const element = document.querySelector('#df-c5167c7c-4870-4140-adc6-d56ef3e67d47');\n",
              "          const dataTable =\n",
              "            await google.colab.kernel.invokeFunction('convertToInteractive',\n",
              "                                                     [key], {});\n",
              "          if (!dataTable) return;\n",
              "\n",
              "          const docLinkHtml = 'Like what you see? Visit the ' +\n",
              "            '<a target=\"_blank\" href=https://colab.research.google.com/notebooks/data_table.ipynb>data table notebook</a>'\n",
              "            + ' to learn more about interactive tables.';\n",
              "          element.innerHTML = '';\n",
              "          dataTable['output_type'] = 'display_data';\n",
              "          await google.colab.output.renderOutput(dataTable, element);\n",
              "          const docLink = document.createElement('div');\n",
              "          docLink.innerHTML = docLinkHtml;\n",
              "          element.appendChild(docLink);\n",
              "        }\n",
              "      </script>\n",
              "    </div>\n",
              "  </div>\n",
              "  "
            ]
          },
          "metadata": {},
          "execution_count": 8
        }
      ],
      "source": [
        "df.head()"
      ]
    },
    {
      "cell_type": "code",
      "execution_count": 9,
      "id": "d2d5e5ba",
      "metadata": {
        "id": "d2d5e5ba",
        "outputId": "333e8b7d-602c-4fc2-a5d6-c5669c745a91",
        "colab": {
          "base_uri": "https://localhost:8080/"
        }
      },
      "outputs": [
        {
          "output_type": "execute_result",
          "data": {
            "text/plain": [
              "(3410019, 12)"
            ]
          },
          "metadata": {},
          "execution_count": 9
        }
      ],
      "source": [
        "df.shape"
      ]
    },
    {
      "cell_type": "code",
      "source": [
        "ss.describe(df['overall'])"
      ],
      "metadata": {
        "id": "xohdjL7flbe6",
        "colab": {
          "base_uri": "https://localhost:8080/"
        },
        "outputId": "dfdeb5e3-50df-4a57-c29c-7da6ea90df57"
      },
      "id": "xohdjL7flbe6",
      "execution_count": 10,
      "outputs": [
        {
          "output_type": "execute_result",
          "data": {
            "text/plain": [
              "DescribeResult(nobs=3410019, minmax=(1.0, 5.0), mean=4.221320174462371, variance=1.360619309461769, skewness=-1.4843835182448823, kurtosis=1.2016060314839265)"
            ]
          },
          "metadata": {},
          "execution_count": 10
        }
      ]
    },
    {
      "cell_type": "code",
      "execution_count": 11,
      "id": "2aefa121",
      "metadata": {
        "id": "2aefa121"
      },
      "outputs": [],
      "source": [
        "metadata = getDF('/content/drive/My Drive/Recommender System/Data/meta_Movies_and_TV.json.gz')"
      ]
    },
    {
      "cell_type": "code",
      "execution_count": 12,
      "id": "9fcf9d28",
      "metadata": {
        "id": "9fcf9d28",
        "colab": {
          "base_uri": "https://localhost:8080/",
          "height": 565
        },
        "outputId": "4209de9e-ab5c-4d71-d630-2b7422844825"
      },
      "outputs": [
        {
          "output_type": "execute_result",
          "data": {
            "text/plain": [
              "                category tech1  \\\n",
              "0  [Movies & TV, Movies]         \n",
              "1  [Movies & TV, Movies]         \n",
              "2  [Movies & TV, Movies]         \n",
              "3  [Movies & TV, Movies]         \n",
              "4  [Movies & TV, Movies]         \n",
              "\n",
              "                                         description fit  \\\n",
              "0                                                 []       \n",
              "1                                                 []       \n",
              "2  [Disc 1: Flour Power (Scones; Shortcakes; Sout...       \n",
              "3  [Barefoot Contessa Volume 2: On these three di...       \n",
              "4  [Rise and Swine (Good Eats Vol. 7) includes bo...       \n",
              "\n",
              "                                               title  \\\n",
              "0                Understanding Seizures and Epilepsy   \n",
              "1  Spirit Led&mdash;Moving By Grace In The Holy S...   \n",
              "2                  My Fair Pastry (Good Eats Vol. 9)   \n",
              "3  Barefoot Contessa (with Ina Garten), Entertain...   \n",
              "4                  Rise and Swine (Good Eats Vol. 7)   \n",
              "\n",
              "                                            also_buy tech2        brand  \\\n",
              "0                                                 []                      \n",
              "1                                                 []                      \n",
              "2                                                 []        Alton Brown   \n",
              "3  [B002I5GNW4, B005WXPVMM, B009UY3W8O, B00N27ID1...         Ina Garten   \n",
              "4                           [B000P1CKES, B000NR4CRM]        Alton Brown   \n",
              "\n",
              "  feature                      rank  \\\n",
              "0      []  886,503 in Movies & TV (   \n",
              "1      []  342,688 in Movies & TV (   \n",
              "2      []  370,026 in Movies & TV (   \n",
              "3      []  342,914 in Movies & TV (   \n",
              "4      []  351,684 in Movies & TV (   \n",
              "\n",
              "                                           also_view     main_cat  \\\n",
              "0                                                 []  Movies & TV   \n",
              "1                                                 []  Movies & TV   \n",
              "2                                                 []  Movies & TV   \n",
              "3  [B002I5GNW4, 0804187045, B009UY3W8O, 060960219...  Movies & TV   \n",
              "4                                       [B0015SVNXY]  Movies & TV   \n",
              "\n",
              "  similar_item date   price        asin  \\\n",
              "0                            0000695009   \n",
              "1                            0000791156   \n",
              "2                            0000143529   \n",
              "3                    $74.95  0000143588   \n",
              "4                            0000143502   \n",
              "\n",
              "                                            imageURL  \\\n",
              "0                                                 []   \n",
              "1  [https://images-na.ssl-images-amazon.com/image...   \n",
              "2  [https://images-na.ssl-images-amazon.com/image...   \n",
              "3                                                 []   \n",
              "4  [https://images-na.ssl-images-amazon.com/image...   \n",
              "\n",
              "                                     imageURLHighRes details  \n",
              "0                                                 []     NaN  \n",
              "1  [https://images-na.ssl-images-amazon.com/image...     NaN  \n",
              "2  [https://images-na.ssl-images-amazon.com/image...     NaN  \n",
              "3                                                 []     NaN  \n",
              "4  [https://images-na.ssl-images-amazon.com/image...     NaN  "
            ],
            "text/html": [
              "\n",
              "  <div id=\"df-68585f01-8416-4236-bfa6-d24f0884cb6f\">\n",
              "    <div class=\"colab-df-container\">\n",
              "      <div>\n",
              "<style scoped>\n",
              "    .dataframe tbody tr th:only-of-type {\n",
              "        vertical-align: middle;\n",
              "    }\n",
              "\n",
              "    .dataframe tbody tr th {\n",
              "        vertical-align: top;\n",
              "    }\n",
              "\n",
              "    .dataframe thead th {\n",
              "        text-align: right;\n",
              "    }\n",
              "</style>\n",
              "<table border=\"1\" class=\"dataframe\">\n",
              "  <thead>\n",
              "    <tr style=\"text-align: right;\">\n",
              "      <th></th>\n",
              "      <th>category</th>\n",
              "      <th>tech1</th>\n",
              "      <th>description</th>\n",
              "      <th>fit</th>\n",
              "      <th>title</th>\n",
              "      <th>also_buy</th>\n",
              "      <th>tech2</th>\n",
              "      <th>brand</th>\n",
              "      <th>feature</th>\n",
              "      <th>rank</th>\n",
              "      <th>also_view</th>\n",
              "      <th>main_cat</th>\n",
              "      <th>similar_item</th>\n",
              "      <th>date</th>\n",
              "      <th>price</th>\n",
              "      <th>asin</th>\n",
              "      <th>imageURL</th>\n",
              "      <th>imageURLHighRes</th>\n",
              "      <th>details</th>\n",
              "    </tr>\n",
              "  </thead>\n",
              "  <tbody>\n",
              "    <tr>\n",
              "      <th>0</th>\n",
              "      <td>[Movies &amp; TV, Movies]</td>\n",
              "      <td></td>\n",
              "      <td>[]</td>\n",
              "      <td></td>\n",
              "      <td>Understanding Seizures and Epilepsy</td>\n",
              "      <td>[]</td>\n",
              "      <td></td>\n",
              "      <td></td>\n",
              "      <td>[]</td>\n",
              "      <td>886,503 in Movies &amp; TV (</td>\n",
              "      <td>[]</td>\n",
              "      <td>Movies &amp; TV</td>\n",
              "      <td></td>\n",
              "      <td></td>\n",
              "      <td></td>\n",
              "      <td>0000695009</td>\n",
              "      <td>[]</td>\n",
              "      <td>[]</td>\n",
              "      <td>NaN</td>\n",
              "    </tr>\n",
              "    <tr>\n",
              "      <th>1</th>\n",
              "      <td>[Movies &amp; TV, Movies]</td>\n",
              "      <td></td>\n",
              "      <td>[]</td>\n",
              "      <td></td>\n",
              "      <td>Spirit Led&amp;mdash;Moving By Grace In The Holy S...</td>\n",
              "      <td>[]</td>\n",
              "      <td></td>\n",
              "      <td></td>\n",
              "      <td>[]</td>\n",
              "      <td>342,688 in Movies &amp; TV (</td>\n",
              "      <td>[]</td>\n",
              "      <td>Movies &amp; TV</td>\n",
              "      <td></td>\n",
              "      <td></td>\n",
              "      <td></td>\n",
              "      <td>0000791156</td>\n",
              "      <td>[https://images-na.ssl-images-amazon.com/image...</td>\n",
              "      <td>[https://images-na.ssl-images-amazon.com/image...</td>\n",
              "      <td>NaN</td>\n",
              "    </tr>\n",
              "    <tr>\n",
              "      <th>2</th>\n",
              "      <td>[Movies &amp; TV, Movies]</td>\n",
              "      <td></td>\n",
              "      <td>[Disc 1: Flour Power (Scones; Shortcakes; Sout...</td>\n",
              "      <td></td>\n",
              "      <td>My Fair Pastry (Good Eats Vol. 9)</td>\n",
              "      <td>[]</td>\n",
              "      <td></td>\n",
              "      <td>Alton Brown</td>\n",
              "      <td>[]</td>\n",
              "      <td>370,026 in Movies &amp; TV (</td>\n",
              "      <td>[]</td>\n",
              "      <td>Movies &amp; TV</td>\n",
              "      <td></td>\n",
              "      <td></td>\n",
              "      <td></td>\n",
              "      <td>0000143529</td>\n",
              "      <td>[https://images-na.ssl-images-amazon.com/image...</td>\n",
              "      <td>[https://images-na.ssl-images-amazon.com/image...</td>\n",
              "      <td>NaN</td>\n",
              "    </tr>\n",
              "    <tr>\n",
              "      <th>3</th>\n",
              "      <td>[Movies &amp; TV, Movies]</td>\n",
              "      <td></td>\n",
              "      <td>[Barefoot Contessa Volume 2: On these three di...</td>\n",
              "      <td></td>\n",
              "      <td>Barefoot Contessa (with Ina Garten), Entertain...</td>\n",
              "      <td>[B002I5GNW4, B005WXPVMM, B009UY3W8O, B00N27ID1...</td>\n",
              "      <td></td>\n",
              "      <td>Ina Garten</td>\n",
              "      <td>[]</td>\n",
              "      <td>342,914 in Movies &amp; TV (</td>\n",
              "      <td>[B002I5GNW4, 0804187045, B009UY3W8O, 060960219...</td>\n",
              "      <td>Movies &amp; TV</td>\n",
              "      <td></td>\n",
              "      <td></td>\n",
              "      <td>$74.95</td>\n",
              "      <td>0000143588</td>\n",
              "      <td>[]</td>\n",
              "      <td>[]</td>\n",
              "      <td>NaN</td>\n",
              "    </tr>\n",
              "    <tr>\n",
              "      <th>4</th>\n",
              "      <td>[Movies &amp; TV, Movies]</td>\n",
              "      <td></td>\n",
              "      <td>[Rise and Swine (Good Eats Vol. 7) includes bo...</td>\n",
              "      <td></td>\n",
              "      <td>Rise and Swine (Good Eats Vol. 7)</td>\n",
              "      <td>[B000P1CKES, B000NR4CRM]</td>\n",
              "      <td></td>\n",
              "      <td>Alton Brown</td>\n",
              "      <td>[]</td>\n",
              "      <td>351,684 in Movies &amp; TV (</td>\n",
              "      <td>[B0015SVNXY]</td>\n",
              "      <td>Movies &amp; TV</td>\n",
              "      <td></td>\n",
              "      <td></td>\n",
              "      <td></td>\n",
              "      <td>0000143502</td>\n",
              "      <td>[https://images-na.ssl-images-amazon.com/image...</td>\n",
              "      <td>[https://images-na.ssl-images-amazon.com/image...</td>\n",
              "      <td>NaN</td>\n",
              "    </tr>\n",
              "  </tbody>\n",
              "</table>\n",
              "</div>\n",
              "      <button class=\"colab-df-convert\" onclick=\"convertToInteractive('df-68585f01-8416-4236-bfa6-d24f0884cb6f')\"\n",
              "              title=\"Convert this dataframe to an interactive table.\"\n",
              "              style=\"display:none;\">\n",
              "        \n",
              "  <svg xmlns=\"http://www.w3.org/2000/svg\" height=\"24px\"viewBox=\"0 0 24 24\"\n",
              "       width=\"24px\">\n",
              "    <path d=\"M0 0h24v24H0V0z\" fill=\"none\"/>\n",
              "    <path d=\"M18.56 5.44l.94 2.06.94-2.06 2.06-.94-2.06-.94-.94-2.06-.94 2.06-2.06.94zm-11 1L8.5 8.5l.94-2.06 2.06-.94-2.06-.94L8.5 2.5l-.94 2.06-2.06.94zm10 10l.94 2.06.94-2.06 2.06-.94-2.06-.94-.94-2.06-.94 2.06-2.06.94z\"/><path d=\"M17.41 7.96l-1.37-1.37c-.4-.4-.92-.59-1.43-.59-.52 0-1.04.2-1.43.59L10.3 9.45l-7.72 7.72c-.78.78-.78 2.05 0 2.83L4 21.41c.39.39.9.59 1.41.59.51 0 1.02-.2 1.41-.59l7.78-7.78 2.81-2.81c.8-.78.8-2.07 0-2.86zM5.41 20L4 18.59l7.72-7.72 1.47 1.35L5.41 20z\"/>\n",
              "  </svg>\n",
              "      </button>\n",
              "      \n",
              "  <style>\n",
              "    .colab-df-container {\n",
              "      display:flex;\n",
              "      flex-wrap:wrap;\n",
              "      gap: 12px;\n",
              "    }\n",
              "\n",
              "    .colab-df-convert {\n",
              "      background-color: #E8F0FE;\n",
              "      border: none;\n",
              "      border-radius: 50%;\n",
              "      cursor: pointer;\n",
              "      display: none;\n",
              "      fill: #1967D2;\n",
              "      height: 32px;\n",
              "      padding: 0 0 0 0;\n",
              "      width: 32px;\n",
              "    }\n",
              "\n",
              "    .colab-df-convert:hover {\n",
              "      background-color: #E2EBFA;\n",
              "      box-shadow: 0px 1px 2px rgba(60, 64, 67, 0.3), 0px 1px 3px 1px rgba(60, 64, 67, 0.15);\n",
              "      fill: #174EA6;\n",
              "    }\n",
              "\n",
              "    [theme=dark] .colab-df-convert {\n",
              "      background-color: #3B4455;\n",
              "      fill: #D2E3FC;\n",
              "    }\n",
              "\n",
              "    [theme=dark] .colab-df-convert:hover {\n",
              "      background-color: #434B5C;\n",
              "      box-shadow: 0px 1px 3px 1px rgba(0, 0, 0, 0.15);\n",
              "      filter: drop-shadow(0px 1px 2px rgba(0, 0, 0, 0.3));\n",
              "      fill: #FFFFFF;\n",
              "    }\n",
              "  </style>\n",
              "\n",
              "      <script>\n",
              "        const buttonEl =\n",
              "          document.querySelector('#df-68585f01-8416-4236-bfa6-d24f0884cb6f button.colab-df-convert');\n",
              "        buttonEl.style.display =\n",
              "          google.colab.kernel.accessAllowed ? 'block' : 'none';\n",
              "\n",
              "        async function convertToInteractive(key) {\n",
              "          const element = document.querySelector('#df-68585f01-8416-4236-bfa6-d24f0884cb6f');\n",
              "          const dataTable =\n",
              "            await google.colab.kernel.invokeFunction('convertToInteractive',\n",
              "                                                     [key], {});\n",
              "          if (!dataTable) return;\n",
              "\n",
              "          const docLinkHtml = 'Like what you see? Visit the ' +\n",
              "            '<a target=\"_blank\" href=https://colab.research.google.com/notebooks/data_table.ipynb>data table notebook</a>'\n",
              "            + ' to learn more about interactive tables.';\n",
              "          element.innerHTML = '';\n",
              "          dataTable['output_type'] = 'display_data';\n",
              "          await google.colab.output.renderOutput(dataTable, element);\n",
              "          const docLink = document.createElement('div');\n",
              "          docLink.innerHTML = docLinkHtml;\n",
              "          element.appendChild(docLink);\n",
              "        }\n",
              "      </script>\n",
              "    </div>\n",
              "  </div>\n",
              "  "
            ]
          },
          "metadata": {},
          "execution_count": 12
        }
      ],
      "source": [
        "metadata.head()"
      ]
    },
    {
      "cell_type": "code",
      "execution_count": 13,
      "id": "97672fb0",
      "metadata": {
        "id": "97672fb0",
        "colab": {
          "base_uri": "https://localhost:8080/"
        },
        "outputId": "30c523ec-6e9b-4a3d-b705-e22bae635907"
      },
      "outputs": [
        {
          "output_type": "execute_result",
          "data": {
            "text/plain": [
              "(203766, 19)"
            ]
          },
          "metadata": {},
          "execution_count": 13
        }
      ],
      "source": [
        "metadata.shape"
      ]
    },
    {
      "cell_type": "code",
      "execution_count": 15,
      "id": "37bddf73",
      "metadata": {
        "id": "37bddf73",
        "outputId": "dee3999e-5755-4295-9f70-39e55ba5857d",
        "colab": {
          "base_uri": "https://localhost:8080/"
        }
      },
      "outputs": [
        {
          "output_type": "execute_result",
          "data": {
            "text/plain": [
              "26876"
            ]
          },
          "metadata": {},
          "execution_count": 15
        }
      ],
      "source": [
        "list(metadata['title']).index('Harry Potter and the Prisoner of Azkaban')"
      ]
    },
    {
      "cell_type": "code",
      "execution_count": 16,
      "id": "625d2a09",
      "metadata": {
        "id": "625d2a09",
        "outputId": "c451b335-115c-412e-a837-90d6423b965c",
        "colab": {
          "base_uri": "https://localhost:8080/"
        }
      },
      "outputs": [
        {
          "output_type": "execute_result",
          "data": {
            "text/plain": [
              "category           [Movies & TV, Characters & Series, Harry Potte...\n",
              "tech1                                                               \n",
              "description        [As Harry Potter readies himself for his third...\n",
              "fit                                                                 \n",
              "title                       Harry Potter and the Prisoner of Azkaban\n",
              "also_buy           [B000E6EK2Y, B01KKN0HYU, B002PMV9FG, B000W7F5S...\n",
              "tech2                                                               \n",
              "brand                                               Daniel Radcliffe\n",
              "feature                                                           []\n",
              "rank                                         32,077 in Movies & TV (\n",
              "also_view          [B01KKN0HZ4, B01KKN0HYU, B000E6EK2Y, B01KW24RN...\n",
              "main_cat                                                 Movies & TV\n",
              "similar_item                                                        \n",
              "date                                                                \n",
              "price                                                          $7.34\n",
              "asin                                                      B00005JMAH\n",
              "imageURL                                                          []\n",
              "imageURLHighRes                                                   []\n",
              "details            {'Language:': 'English (Dolby Digital 5.1), Fr...\n",
              "Name: 26876, dtype: object"
            ]
          },
          "metadata": {},
          "execution_count": 16
        }
      ],
      "source": [
        "metadata.loc[26876]"
      ]
    },
    {
      "cell_type": "code",
      "source": [
        "metadata.loc[26876]['also_buy']"
      ],
      "metadata": {
        "colab": {
          "base_uri": "https://localhost:8080/"
        },
        "id": "EAwNhR1VcrZY",
        "outputId": "c4a4da91-c1a2-418f-b5d9-5e3b386dbffd"
      },
      "id": "EAwNhR1VcrZY",
      "execution_count": 17,
      "outputs": [
        {
          "output_type": "execute_result",
          "data": {
            "text/plain": [
              "['B000E6EK2Y',\n",
              " 'B01KKN0HYU',\n",
              " 'B002PMV9FG',\n",
              " 'B000W7F5SS',\n",
              " 'B001UV4XHY',\n",
              " 'B001UV4XIS',\n",
              " 'B01KKN0I1C',\n",
              " 'B07CQP6R9Y',\n",
              " 'B008UZA8FY',\n",
              " 'B01GWBPWTO',\n",
              " 'B07CPC394C',\n",
              " 'B004WO6WAM',\n",
              " 'B01GWC5TFU',\n",
              " 'B00UGQI3GG',\n",
              " 'B01KKN0I9E',\n",
              " 'B01KW24REK',\n",
              " 'B073LC2F8S',\n",
              " 'B07CPF532R',\n",
              " 'B01GWC6RGU',\n",
              " '0439139600',\n",
              " 'B01KW24RNQ',\n",
              " '0439139597',\n",
              " 'B01KKN0HZ4',\n",
              " '0439136369',\n",
              " 'B01KKN0I6W',\n",
              " 'B01KKN0I4Y',\n",
              " 'B07CXZ9C5B',\n",
              " 'B004WO6HT8',\n",
              " '6304698623',\n",
              " 'B000NVT0TI',\n",
              " 'B01KW24RC2',\n",
              " 'B01B80CM4W',\n",
              " 'B00006HBUJ',\n",
              " '0545791340',\n",
              " 'B00HE7YSKA',\n",
              " 'B00009TB5G',\n",
              " '0439358078',\n",
              " 'B00003CX5P',\n",
              " '0783225547',\n",
              " '0439136350',\n",
              " 'B00HWWUQWQ',\n",
              " 'B000VBJEEG',\n",
              " 'B075FSRZK8',\n",
              " 'B008UZDXEW',\n",
              " 'B07CQKS23B',\n",
              " 'B01I5IPP4E',\n",
              " 'B07BKM4N9B',\n",
              " '1549697137',\n",
              " 'B00007JMD8',\n",
              " 'B07G1THXKY',\n",
              " 'B00HFFE8HE',\n",
              " 'B01MTF4482',\n",
              " 'B000Y11B7G',\n",
              " 'B00005JN4W',\n",
              " '1510729313',\n",
              " 'B004A8ZWW4',\n",
              " 'B079KJLDF2',\n",
              " 'B07DQMJBHS',\n",
              " 'B07DL6X6ZJ',\n",
              " 'B001QOGYBI',\n",
              " '0545139708',\n",
              " '1338132326',\n",
              " 'B06XJKXY4R',\n",
              " 'B06ZYGQBQV',\n",
              " '133821666X',\n",
              " 'B07G2MYV7Z',\n",
              " 'B01MQMCIGJ',\n",
              " 'B07D493RWR',\n",
              " 'B079FLYB41',\n",
              " 'B015WVHVEY',\n",
              " '043935806X',\n",
              " 'B073VS8VCG',\n",
              " 'B077R2WHSB',\n",
              " '0545010225',\n",
              " '1338218395',\n",
              " 'B07FDT8PGV',\n",
              " '059035342X',\n",
              " 'B07CF6WRVT',\n",
              " '1338263897',\n",
              " 'B003NFM3JK']"
            ]
          },
          "metadata": {},
          "execution_count": 17
        }
      ]
    },
    {
      "cell_type": "code",
      "source": [
        "metadata.loc[26876]['also_view']"
      ],
      "metadata": {
        "colab": {
          "base_uri": "https://localhost:8080/"
        },
        "id": "L1iUHhnQc1m-",
        "outputId": "decb908a-db5c-4235-e3f6-f16fbd06c935"
      },
      "id": "L1iUHhnQc1m-",
      "execution_count": 18,
      "outputs": [
        {
          "output_type": "execute_result",
          "data": {
            "text/plain": [
              "['B01KKN0HZ4',\n",
              " 'B01KKN0HYU',\n",
              " 'B000E6EK2Y',\n",
              " 'B01KW24RNQ',\n",
              " 'B000W7F5SS',\n",
              " 'B002PMV9FG',\n",
              " 'B01KMWAV3Q',\n",
              " 'B01KMWAVM2',\n",
              " 'B008UZ949K',\n",
              " 'B01KKN0I1C',\n",
              " 'B07CPMYR82',\n",
              " 'B07CQP6R9Y',\n",
              " 'B008UZA8FY',\n",
              " 'B01GWBPWTO',\n",
              " 'B00H6T0NZA',\n",
              " 'B00UGQI3GG',\n",
              " 'B005OCFGTO',\n",
              " 'B07CPC394C',\n",
              " 'B00UB1MP92',\n",
              " 'B01C45OBKI',\n",
              " 'B001DPHDJ2',\n",
              " 'B004WO6WAM',\n",
              " 'B0002TV2WY',\n",
              " 'B01GWC5TFU',\n",
              " 'B008UZDXEW',\n",
              " 'B008UZ7N3E',\n",
              " 'B01C45O9YG',\n",
              " 'B007FSEAHY',\n",
              " 'B00H6TARD8',\n",
              " 'B07FSG5XT7',\n",
              " 'B00005JNJV',\n",
              " 'B0771HW47S',\n",
              " 'B002ZG980U',\n",
              " 'B004LWZWGA',\n",
              " 'B002Q4VPM0',\n",
              " 'B01GWC6RGU',\n",
              " 'B01LTHOAGC',\n",
              " 'B004LRPCSS',\n",
              " 'B076X2YHRF',\n",
              " 'B01C45O8S8',\n",
              " 'B073LWR8XD',\n",
              " 'B00YZH1PEY',\n",
              " 'B01N7BLIK1',\n",
              " 'B000VWYJ86',\n",
              " 'B01C45O9F0',\n",
              " 'B01JPYUZFQ',\n",
              " 'B01HOIXOHQ',\n",
              " 'B073WYD3CH',\n",
              " 'B000E33W26',\n",
              " 'B00UGPH2PA',\n",
              " 'B01N47BB16',\n",
              " 'B0013FDM7E',\n",
              " '0800195175',\n",
              " 'B000E33W1W',\n",
              " 'B00L04WB20',\n",
              " 'B07223GML6']"
            ]
          },
          "metadata": {},
          "execution_count": 18
        }
      ]
    },
    {
      "cell_type": "code",
      "source": [
        "metadata.loc[26876]['similar_item']"
      ],
      "metadata": {
        "colab": {
          "base_uri": "https://localhost:8080/",
          "height": 36
        },
        "id": "ke9PXkEWc6Lk",
        "outputId": "b14e723e-14a4-4848-9457-3f80fc772368"
      },
      "id": "ke9PXkEWc6Lk",
      "execution_count": 19,
      "outputs": [
        {
          "output_type": "execute_result",
          "data": {
            "text/plain": [
              "''"
            ],
            "application/vnd.google.colaboratory.intrinsic+json": {
              "type": "string"
            }
          },
          "metadata": {},
          "execution_count": 19
        }
      ]
    },
    {
      "cell_type": "code",
      "source": [
        "relevant_items = metadata.loc[26876]['also_buy'] + metadata.loc[26876]['also_view']"
      ],
      "metadata": {
        "id": "eIzESXDsdXK5"
      },
      "id": "eIzESXDsdXK5",
      "execution_count": 20,
      "outputs": []
    },
    {
      "cell_type": "code",
      "execution_count": 21,
      "id": "4eea6cf6",
      "metadata": {
        "id": "4eea6cf6"
      },
      "outputs": [],
      "source": [
        "# Main Training Set\n",
        "ratings = df[['reviewerID','asin','overall']]"
      ]
    },
    {
      "cell_type": "code",
      "source": [
        "ratings.head()"
      ],
      "metadata": {
        "colab": {
          "base_uri": "https://localhost:8080/",
          "height": 206
        },
        "id": "4x1WgQJTWEJ-",
        "outputId": "1daed3f7-f118-4048-c75b-b2f47fa995d1"
      },
      "id": "4x1WgQJTWEJ-",
      "execution_count": 22,
      "outputs": [
        {
          "output_type": "execute_result",
          "data": {
            "text/plain": [
              "       reviewerID        asin  overall\n",
              "0  A2M1CU2IRZG0K9  0005089549      5.0\n",
              "1   AFTUJYISOFHY6  0005089549      5.0\n",
              "2  A3JVF9Y53BEOGC  000503860X      5.0\n",
              "3  A12VPEOEZS1KTC  000503860X      5.0\n",
              "4   ATLZNVLYKP9AZ  000503860X      5.0"
            ],
            "text/html": [
              "\n",
              "  <div id=\"df-f982b62d-c604-4a31-85fb-93646e751753\">\n",
              "    <div class=\"colab-df-container\">\n",
              "      <div>\n",
              "<style scoped>\n",
              "    .dataframe tbody tr th:only-of-type {\n",
              "        vertical-align: middle;\n",
              "    }\n",
              "\n",
              "    .dataframe tbody tr th {\n",
              "        vertical-align: top;\n",
              "    }\n",
              "\n",
              "    .dataframe thead th {\n",
              "        text-align: right;\n",
              "    }\n",
              "</style>\n",
              "<table border=\"1\" class=\"dataframe\">\n",
              "  <thead>\n",
              "    <tr style=\"text-align: right;\">\n",
              "      <th></th>\n",
              "      <th>reviewerID</th>\n",
              "      <th>asin</th>\n",
              "      <th>overall</th>\n",
              "    </tr>\n",
              "  </thead>\n",
              "  <tbody>\n",
              "    <tr>\n",
              "      <th>0</th>\n",
              "      <td>A2M1CU2IRZG0K9</td>\n",
              "      <td>0005089549</td>\n",
              "      <td>5.0</td>\n",
              "    </tr>\n",
              "    <tr>\n",
              "      <th>1</th>\n",
              "      <td>AFTUJYISOFHY6</td>\n",
              "      <td>0005089549</td>\n",
              "      <td>5.0</td>\n",
              "    </tr>\n",
              "    <tr>\n",
              "      <th>2</th>\n",
              "      <td>A3JVF9Y53BEOGC</td>\n",
              "      <td>000503860X</td>\n",
              "      <td>5.0</td>\n",
              "    </tr>\n",
              "    <tr>\n",
              "      <th>3</th>\n",
              "      <td>A12VPEOEZS1KTC</td>\n",
              "      <td>000503860X</td>\n",
              "      <td>5.0</td>\n",
              "    </tr>\n",
              "    <tr>\n",
              "      <th>4</th>\n",
              "      <td>ATLZNVLYKP9AZ</td>\n",
              "      <td>000503860X</td>\n",
              "      <td>5.0</td>\n",
              "    </tr>\n",
              "  </tbody>\n",
              "</table>\n",
              "</div>\n",
              "      <button class=\"colab-df-convert\" onclick=\"convertToInteractive('df-f982b62d-c604-4a31-85fb-93646e751753')\"\n",
              "              title=\"Convert this dataframe to an interactive table.\"\n",
              "              style=\"display:none;\">\n",
              "        \n",
              "  <svg xmlns=\"http://www.w3.org/2000/svg\" height=\"24px\"viewBox=\"0 0 24 24\"\n",
              "       width=\"24px\">\n",
              "    <path d=\"M0 0h24v24H0V0z\" fill=\"none\"/>\n",
              "    <path d=\"M18.56 5.44l.94 2.06.94-2.06 2.06-.94-2.06-.94-.94-2.06-.94 2.06-2.06.94zm-11 1L8.5 8.5l.94-2.06 2.06-.94-2.06-.94L8.5 2.5l-.94 2.06-2.06.94zm10 10l.94 2.06.94-2.06 2.06-.94-2.06-.94-.94-2.06-.94 2.06-2.06.94z\"/><path d=\"M17.41 7.96l-1.37-1.37c-.4-.4-.92-.59-1.43-.59-.52 0-1.04.2-1.43.59L10.3 9.45l-7.72 7.72c-.78.78-.78 2.05 0 2.83L4 21.41c.39.39.9.59 1.41.59.51 0 1.02-.2 1.41-.59l7.78-7.78 2.81-2.81c.8-.78.8-2.07 0-2.86zM5.41 20L4 18.59l7.72-7.72 1.47 1.35L5.41 20z\"/>\n",
              "  </svg>\n",
              "      </button>\n",
              "      \n",
              "  <style>\n",
              "    .colab-df-container {\n",
              "      display:flex;\n",
              "      flex-wrap:wrap;\n",
              "      gap: 12px;\n",
              "    }\n",
              "\n",
              "    .colab-df-convert {\n",
              "      background-color: #E8F0FE;\n",
              "      border: none;\n",
              "      border-radius: 50%;\n",
              "      cursor: pointer;\n",
              "      display: none;\n",
              "      fill: #1967D2;\n",
              "      height: 32px;\n",
              "      padding: 0 0 0 0;\n",
              "      width: 32px;\n",
              "    }\n",
              "\n",
              "    .colab-df-convert:hover {\n",
              "      background-color: #E2EBFA;\n",
              "      box-shadow: 0px 1px 2px rgba(60, 64, 67, 0.3), 0px 1px 3px 1px rgba(60, 64, 67, 0.15);\n",
              "      fill: #174EA6;\n",
              "    }\n",
              "\n",
              "    [theme=dark] .colab-df-convert {\n",
              "      background-color: #3B4455;\n",
              "      fill: #D2E3FC;\n",
              "    }\n",
              "\n",
              "    [theme=dark] .colab-df-convert:hover {\n",
              "      background-color: #434B5C;\n",
              "      box-shadow: 0px 1px 3px 1px rgba(0, 0, 0, 0.15);\n",
              "      filter: drop-shadow(0px 1px 2px rgba(0, 0, 0, 0.3));\n",
              "      fill: #FFFFFF;\n",
              "    }\n",
              "  </style>\n",
              "\n",
              "      <script>\n",
              "        const buttonEl =\n",
              "          document.querySelector('#df-f982b62d-c604-4a31-85fb-93646e751753 button.colab-df-convert');\n",
              "        buttonEl.style.display =\n",
              "          google.colab.kernel.accessAllowed ? 'block' : 'none';\n",
              "\n",
              "        async function convertToInteractive(key) {\n",
              "          const element = document.querySelector('#df-f982b62d-c604-4a31-85fb-93646e751753');\n",
              "          const dataTable =\n",
              "            await google.colab.kernel.invokeFunction('convertToInteractive',\n",
              "                                                     [key], {});\n",
              "          if (!dataTable) return;\n",
              "\n",
              "          const docLinkHtml = 'Like what you see? Visit the ' +\n",
              "            '<a target=\"_blank\" href=https://colab.research.google.com/notebooks/data_table.ipynb>data table notebook</a>'\n",
              "            + ' to learn more about interactive tables.';\n",
              "          element.innerHTML = '';\n",
              "          dataTable['output_type'] = 'display_data';\n",
              "          await google.colab.output.renderOutput(dataTable, element);\n",
              "          const docLink = document.createElement('div');\n",
              "          docLink.innerHTML = docLinkHtml;\n",
              "          element.appendChild(docLink);\n",
              "        }\n",
              "      </script>\n",
              "    </div>\n",
              "  </div>\n",
              "  "
            ]
          },
          "metadata": {},
          "execution_count": 22
        }
      ]
    },
    {
      "cell_type": "code",
      "source": [
        "ratings.shape"
      ],
      "metadata": {
        "colab": {
          "base_uri": "https://localhost:8080/"
        },
        "id": "hkOczFBUWXCV",
        "outputId": "33c98b30-274b-4a50-9d20-70905d176cff"
      },
      "id": "hkOczFBUWXCV",
      "execution_count": 23,
      "outputs": [
        {
          "output_type": "execute_result",
          "data": {
            "text/plain": [
              "(3410019, 3)"
            ]
          },
          "metadata": {},
          "execution_count": 23
        }
      ]
    },
    {
      "cell_type": "code",
      "source": [
        "#ratings_with_name = ratings.merge(metadata, on='asin')[['reviewerID','asin','title','overall']]"
      ],
      "metadata": {
        "id": "8qWSPlmTWZZn"
      },
      "id": "8qWSPlmTWZZn",
      "execution_count": 24,
      "outputs": []
    },
    {
      "cell_type": "code",
      "source": [
        "#ratings_with_name.head()"
      ],
      "metadata": {
        "id": "1sFM6cUNXE6M"
      },
      "id": "1sFM6cUNXE6M",
      "execution_count": 25,
      "outputs": []
    },
    {
      "cell_type": "code",
      "source": [
        "#ratings_with_name.shape"
      ],
      "metadata": {
        "id": "JH9ZgDI3XJwp"
      },
      "id": "JH9ZgDI3XJwp",
      "execution_count": 26,
      "outputs": []
    },
    {
      "cell_type": "code",
      "source": [
        "#ratings_with_name.isnull().sum()"
      ],
      "metadata": {
        "id": "JRcoY0hzXOZP"
      },
      "id": "JRcoY0hzXOZP",
      "execution_count": 27,
      "outputs": []
    },
    {
      "cell_type": "code",
      "source": [
        "#ratings_with_name.duplicated().sum()"
      ],
      "metadata": {
        "id": "aoOEsPdjXemU"
      },
      "id": "aoOEsPdjXemU",
      "execution_count": 28,
      "outputs": []
    },
    {
      "cell_type": "code",
      "source": [
        "#ratings_with_name = ratings_with_name.drop_duplicates()"
      ],
      "metadata": {
        "id": "rT-hV_SQXlPu"
      },
      "id": "rT-hV_SQXlPu",
      "execution_count": 29,
      "outputs": []
    },
    {
      "cell_type": "code",
      "source": [
        "#ratings_with_name.duplicated().sum()"
      ],
      "metadata": {
        "id": "Z4FuoChwX7Fd"
      },
      "id": "Z4FuoChwX7Fd",
      "execution_count": 30,
      "outputs": []
    },
    {
      "cell_type": "code",
      "source": [
        "ratings.rename(columns={'reviewerID':'user_id'}, inplace=True)\n",
        "ratings.rename(columns={'asin':'product_id'}, inplace=True)\n",
        "ratings.rename(columns={'overall':'rating'}, inplace=True)"
      ],
      "metadata": {
        "id": "xnOTm2DCX_MT",
        "colab": {
          "base_uri": "https://localhost:8080/"
        },
        "outputId": "6a142c8f-340d-4596-a199-82457baa7f91"
      },
      "id": "xnOTm2DCX_MT",
      "execution_count": 31,
      "outputs": [
        {
          "output_type": "stream",
          "name": "stderr",
          "text": [
            "/usr/local/lib/python3.8/dist-packages/pandas/core/frame.py:5039: SettingWithCopyWarning: \n",
            "A value is trying to be set on a copy of a slice from a DataFrame\n",
            "\n",
            "See the caveats in the documentation: https://pandas.pydata.org/pandas-docs/stable/user_guide/indexing.html#returning-a-view-versus-a-copy\n",
            "  return super().rename(\n"
          ]
        }
      ]
    },
    {
      "cell_type": "code",
      "source": [
        "ratings.head()"
      ],
      "metadata": {
        "colab": {
          "base_uri": "https://localhost:8080/",
          "height": 206
        },
        "id": "r1swRtvUYncg",
        "outputId": "85c2665e-0fbb-4e33-a6ac-3c61309329a7"
      },
      "id": "r1swRtvUYncg",
      "execution_count": 32,
      "outputs": [
        {
          "output_type": "execute_result",
          "data": {
            "text/plain": [
              "          user_id  product_id  rating\n",
              "0  A2M1CU2IRZG0K9  0005089549     5.0\n",
              "1   AFTUJYISOFHY6  0005089549     5.0\n",
              "2  A3JVF9Y53BEOGC  000503860X     5.0\n",
              "3  A12VPEOEZS1KTC  000503860X     5.0\n",
              "4   ATLZNVLYKP9AZ  000503860X     5.0"
            ],
            "text/html": [
              "\n",
              "  <div id=\"df-ac64a9c4-79c4-4b66-bb14-2a66098016f3\">\n",
              "    <div class=\"colab-df-container\">\n",
              "      <div>\n",
              "<style scoped>\n",
              "    .dataframe tbody tr th:only-of-type {\n",
              "        vertical-align: middle;\n",
              "    }\n",
              "\n",
              "    .dataframe tbody tr th {\n",
              "        vertical-align: top;\n",
              "    }\n",
              "\n",
              "    .dataframe thead th {\n",
              "        text-align: right;\n",
              "    }\n",
              "</style>\n",
              "<table border=\"1\" class=\"dataframe\">\n",
              "  <thead>\n",
              "    <tr style=\"text-align: right;\">\n",
              "      <th></th>\n",
              "      <th>user_id</th>\n",
              "      <th>product_id</th>\n",
              "      <th>rating</th>\n",
              "    </tr>\n",
              "  </thead>\n",
              "  <tbody>\n",
              "    <tr>\n",
              "      <th>0</th>\n",
              "      <td>A2M1CU2IRZG0K9</td>\n",
              "      <td>0005089549</td>\n",
              "      <td>5.0</td>\n",
              "    </tr>\n",
              "    <tr>\n",
              "      <th>1</th>\n",
              "      <td>AFTUJYISOFHY6</td>\n",
              "      <td>0005089549</td>\n",
              "      <td>5.0</td>\n",
              "    </tr>\n",
              "    <tr>\n",
              "      <th>2</th>\n",
              "      <td>A3JVF9Y53BEOGC</td>\n",
              "      <td>000503860X</td>\n",
              "      <td>5.0</td>\n",
              "    </tr>\n",
              "    <tr>\n",
              "      <th>3</th>\n",
              "      <td>A12VPEOEZS1KTC</td>\n",
              "      <td>000503860X</td>\n",
              "      <td>5.0</td>\n",
              "    </tr>\n",
              "    <tr>\n",
              "      <th>4</th>\n",
              "      <td>ATLZNVLYKP9AZ</td>\n",
              "      <td>000503860X</td>\n",
              "      <td>5.0</td>\n",
              "    </tr>\n",
              "  </tbody>\n",
              "</table>\n",
              "</div>\n",
              "      <button class=\"colab-df-convert\" onclick=\"convertToInteractive('df-ac64a9c4-79c4-4b66-bb14-2a66098016f3')\"\n",
              "              title=\"Convert this dataframe to an interactive table.\"\n",
              "              style=\"display:none;\">\n",
              "        \n",
              "  <svg xmlns=\"http://www.w3.org/2000/svg\" height=\"24px\"viewBox=\"0 0 24 24\"\n",
              "       width=\"24px\">\n",
              "    <path d=\"M0 0h24v24H0V0z\" fill=\"none\"/>\n",
              "    <path d=\"M18.56 5.44l.94 2.06.94-2.06 2.06-.94-2.06-.94-.94-2.06-.94 2.06-2.06.94zm-11 1L8.5 8.5l.94-2.06 2.06-.94-2.06-.94L8.5 2.5l-.94 2.06-2.06.94zm10 10l.94 2.06.94-2.06 2.06-.94-2.06-.94-.94-2.06-.94 2.06-2.06.94z\"/><path d=\"M17.41 7.96l-1.37-1.37c-.4-.4-.92-.59-1.43-.59-.52 0-1.04.2-1.43.59L10.3 9.45l-7.72 7.72c-.78.78-.78 2.05 0 2.83L4 21.41c.39.39.9.59 1.41.59.51 0 1.02-.2 1.41-.59l7.78-7.78 2.81-2.81c.8-.78.8-2.07 0-2.86zM5.41 20L4 18.59l7.72-7.72 1.47 1.35L5.41 20z\"/>\n",
              "  </svg>\n",
              "      </button>\n",
              "      \n",
              "  <style>\n",
              "    .colab-df-container {\n",
              "      display:flex;\n",
              "      flex-wrap:wrap;\n",
              "      gap: 12px;\n",
              "    }\n",
              "\n",
              "    .colab-df-convert {\n",
              "      background-color: #E8F0FE;\n",
              "      border: none;\n",
              "      border-radius: 50%;\n",
              "      cursor: pointer;\n",
              "      display: none;\n",
              "      fill: #1967D2;\n",
              "      height: 32px;\n",
              "      padding: 0 0 0 0;\n",
              "      width: 32px;\n",
              "    }\n",
              "\n",
              "    .colab-df-convert:hover {\n",
              "      background-color: #E2EBFA;\n",
              "      box-shadow: 0px 1px 2px rgba(60, 64, 67, 0.3), 0px 1px 3px 1px rgba(60, 64, 67, 0.15);\n",
              "      fill: #174EA6;\n",
              "    }\n",
              "\n",
              "    [theme=dark] .colab-df-convert {\n",
              "      background-color: #3B4455;\n",
              "      fill: #D2E3FC;\n",
              "    }\n",
              "\n",
              "    [theme=dark] .colab-df-convert:hover {\n",
              "      background-color: #434B5C;\n",
              "      box-shadow: 0px 1px 3px 1px rgba(0, 0, 0, 0.15);\n",
              "      filter: drop-shadow(0px 1px 2px rgba(0, 0, 0, 0.3));\n",
              "      fill: #FFFFFF;\n",
              "    }\n",
              "  </style>\n",
              "\n",
              "      <script>\n",
              "        const buttonEl =\n",
              "          document.querySelector('#df-ac64a9c4-79c4-4b66-bb14-2a66098016f3 button.colab-df-convert');\n",
              "        buttonEl.style.display =\n",
              "          google.colab.kernel.accessAllowed ? 'block' : 'none';\n",
              "\n",
              "        async function convertToInteractive(key) {\n",
              "          const element = document.querySelector('#df-ac64a9c4-79c4-4b66-bb14-2a66098016f3');\n",
              "          const dataTable =\n",
              "            await google.colab.kernel.invokeFunction('convertToInteractive',\n",
              "                                                     [key], {});\n",
              "          if (!dataTable) return;\n",
              "\n",
              "          const docLinkHtml = 'Like what you see? Visit the ' +\n",
              "            '<a target=\"_blank\" href=https://colab.research.google.com/notebooks/data_table.ipynb>data table notebook</a>'\n",
              "            + ' to learn more about interactive tables.';\n",
              "          element.innerHTML = '';\n",
              "          dataTable['output_type'] = 'display_data';\n",
              "          await google.colab.output.renderOutput(dataTable, element);\n",
              "          const docLink = document.createElement('div');\n",
              "          docLink.innerHTML = docLinkHtml;\n",
              "          element.appendChild(docLink);\n",
              "        }\n",
              "      </script>\n",
              "    </div>\n",
              "  </div>\n",
              "  "
            ]
          },
          "metadata": {},
          "execution_count": 32
        }
      ]
    },
    {
      "cell_type": "code",
      "source": [
        "# Creates Sparse Matrix as the Input\n",
        "from scipy.sparse import csr_matrix\n",
        "\n",
        "def create_X(df):\n",
        "    \"\"\"\n",
        "    Generates a sparse matrix from ratings dataframe.\n",
        "    \n",
        "    Args:\n",
        "        df: pandas dataframe\n",
        "    \n",
        "    Returns:\n",
        "        X: sparse matrix\n",
        "        user_mapper: dict that maps user id's to user indices\n",
        "        user_inv_mapper: dict that maps user indices to user id's\n",
        "        movie_mapper: dict that maps movie id's to movie indices\n",
        "        movie_inv_mapper: dict that maps movie indices to movie id's\n",
        "    \"\"\"\n",
        "    N = df['user_id'].nunique()\n",
        "    M = df['product_id'].nunique()\n",
        "\n",
        "    user_mapper = dict(zip(np.unique(df[\"user_id\"]), list(range(N))))\n",
        "    movie_mapper = dict(zip(np.unique(df[\"product_id\"]), list(range(M))))\n",
        "    \n",
        "    user_inv_mapper = dict(zip(list(range(N)), np.unique(df[\"user_id\"])))\n",
        "    movie_inv_mapper = dict(zip(list(range(M)), np.unique(df[\"product_id\"])))\n",
        "    \n",
        "    user_index = [user_mapper[i] for i in df['user_id']]\n",
        "    movie_index = [movie_mapper[i] for i in df['product_id']]\n",
        "\n",
        "    X = csr_matrix((df[\"rating\"], (movie_index, user_index)), shape=(M, N))\n",
        "    \n",
        "    return X, user_mapper, movie_mapper, user_inv_mapper, movie_inv_mapper"
      ],
      "metadata": {
        "id": "n7OD2fpQb_vP"
      },
      "id": "n7OD2fpQb_vP",
      "execution_count": 33,
      "outputs": []
    },
    {
      "cell_type": "code",
      "source": [
        "X, user_mapper, movie_mapper, user_inv_mapper, movie_inv_mapper = create_X(ratings)"
      ],
      "metadata": {
        "id": "hQ3Da0wIjmaB"
      },
      "id": "hQ3Da0wIjmaB",
      "execution_count": 34,
      "outputs": []
    },
    {
      "cell_type": "code",
      "source": [
        "X"
      ],
      "metadata": {
        "colab": {
          "base_uri": "https://localhost:8080/"
        },
        "id": "QFNuDiWelMOA",
        "outputId": "f267d17c-e20c-43ed-ec30-53d02206dcf5"
      },
      "id": "QFNuDiWelMOA",
      "execution_count": 35,
      "outputs": [
        {
          "output_type": "execute_result",
          "data": {
            "text/plain": [
              "<60175x297529 sparse matrix of type '<class 'numpy.float64'>'\n",
              "\twith 3282379 stored elements in Compressed Sparse Row format>"
            ]
          },
          "metadata": {},
          "execution_count": 35
        }
      ]
    },
    {
      "cell_type": "code",
      "source": [
        "sparsity = X.count_nonzero()/(X.shape[0]*X.shape[1])\n",
        "\n",
        "print(f\"Matrix sparsity: {round(sparsity*100,2)}%\")"
      ],
      "metadata": {
        "colab": {
          "base_uri": "https://localhost:8080/"
        },
        "id": "HRTmn2f7llas",
        "outputId": "70e29d04-ce33-474d-ad9b-23b59800015b"
      },
      "id": "HRTmn2f7llas",
      "execution_count": 36,
      "outputs": [
        {
          "output_type": "stream",
          "name": "stdout",
          "text": [
            "Matrix sparsity: 0.02%\n"
          ]
        }
      ]
    },
    {
      "cell_type": "code",
      "source": [
        "from sklearn.neighbors import NearestNeighbors\n",
        "\n",
        "def find_similar_movies(movie_id, X, k, metric='cosine', show_distance=False):\n",
        "    \"\"\"\n",
        "    Finds k-nearest neighbours for a given movie id.\n",
        "    \n",
        "    Args:\n",
        "        movie_id: id of the movie of interest\n",
        "        X: user-item utility matrix\n",
        "        k: number of similar movies to retrieve\n",
        "        metric: distance metric for kNN calculations\n",
        "    \n",
        "    Returns:\n",
        "        list of k similar movie ID's\n",
        "    \"\"\"\n",
        "    neighbour_ids = []\n",
        "    \n",
        "    movie_ind = movie_mapper[movie_id]\n",
        "    movie_vec = X[movie_ind]\n",
        "    k+=1\n",
        "    kNN = NearestNeighbors(n_neighbors=k, algorithm=\"brute\", metric=metric)\n",
        "    kNN.fit(X)\n",
        "    if isinstance(movie_vec, (np.ndarray)):\n",
        "        movie_vec = movie_vec.reshape(1,-1)\n",
        "    neighbour = kNN.kneighbors(movie_vec, return_distance=show_distance)\n",
        "    for i in range(0,k):\n",
        "        n = neighbour.item(i)\n",
        "        neighbour_ids.append(movie_inv_mapper[n])\n",
        "    neighbour_ids.pop(0)\n",
        "    return neighbour_ids"
      ],
      "metadata": {
        "id": "-XynbdW3nJBZ"
      },
      "id": "-XynbdW3nJBZ",
      "execution_count": 37,
      "outputs": []
    },
    {
      "cell_type": "code",
      "source": [
        "#movie_titles = dict(zip(ratings['movieId'], ratings['title']))\n",
        "\n",
        "#movie_id = 'B00IT70F3S'     # Avengers: Age of Ultron\n",
        "#movie_id = 'B00LYYUTEI'    # The Dark Knight\n",
        "movie_id = 'B00005JMAH'     # Harry Potter and the Prisoner of Azkaban\n",
        "\n",
        "similar_ids = find_similar_movies(movie_id, X, k=20)\n",
        "#movie_title = movie_titles[movie_id]\n",
        "\n",
        "print(f\"Because you watched {movie_id}\")\n",
        "for i in similar_ids:\n",
        "    print(i)"
      ],
      "metadata": {
        "colab": {
          "base_uri": "https://localhost:8080/"
        },
        "id": "PYxfHuYDnsN2",
        "outputId": "fc958d80-f302-486c-d3cd-02d6a7172e1f"
      },
      "id": "PYxfHuYDnsN2",
      "execution_count": 52,
      "outputs": [
        {
          "output_type": "stream",
          "name": "stdout",
          "text": [
            "Because you watched B00005JMAH\n",
            "B000E6EK3S\n",
            "B00005JPI2\n",
            "B000ZECQ08\n",
            "B001UV4XI8\n",
            "B001UV4XIS\n",
            "B00005JMQW\n",
            "B00005JMQZ\n",
            "B00005JKZY\n",
            "B00005JNJV\n",
            "7799146915\n",
            "B00064LJVO\n",
            "B00Z9YZRVE\n",
            "B00003CWT6\n",
            "B00005JKZU\n",
            "7883704591\n",
            "B01AUH49W2\n",
            "B00005JM5E\n",
            "B00009W2GQ\n",
            "B00005JNTU\n",
            "B0002KVUKW\n"
          ]
        }
      ]
    },
    {
      "cell_type": "code",
      "source": [
        "def similar_movies(ids):\n",
        "  for id in ids:\n",
        "    print(metadata.loc[metadata['asin'] == id]['title'])"
      ],
      "metadata": {
        "id": "Xb3F3dfYpwz5"
      },
      "id": "Xb3F3dfYpwz5",
      "execution_count": 47,
      "outputs": []
    },
    {
      "cell_type": "code",
      "source": [
        "similar_movies(similar_ids)"
      ],
      "metadata": {
        "colab": {
          "base_uri": "https://localhost:8080/"
        },
        "id": "9SO_hxdEqHNF",
        "outputId": "f08ecc17-5115-467c-de2c-66b355da7715"
      },
      "id": "9SO_hxdEqHNF",
      "execution_count": 53,
      "outputs": [
        {
          "output_type": "stream",
          "name": "stdout",
          "text": [
            "79415    Harry Potter and the Goblet of Fire\n",
            "Name: title, dtype: object\n",
            "27164    Harry Potter and the Order of the Phoenix\n",
            "49091    Harry Potter and the Order of the Phoenix\n",
            "Name: title, dtype: object\n",
            "105857    Harry Potter and the Half-Blood Prince\n",
            "Name: title, dtype: object\n",
            "127394     Harry Potter and the Deathly Hallows, Part 1 ...\n",
            "Name: title, dtype: object\n",
            "127372    HP7: Deathly Hallows, P2 (DVD)\n",
            "Name: title, dtype: object\n",
            "26936    Spider-Man 2\n",
            "48863    Spider-Man 2\n",
            "Name: title, dtype: object\n",
            "26926    Shrek 2\n",
            "48853    Shrek 2\n",
            "Name: title, dtype: object\n",
            "26792    The Lord of the Rings: The Return of the King\n",
            "48719    The Lord of the Rings: The Return of the King\n",
            "Name: title, dtype: object\n",
            "26992    Batman Begins\n",
            "48919    Batman Begins\n",
            "Name: title, dtype: object\n",
            "19337    Star Wars: Episode III - Revenge of the Sith (...\n",
            "Name: title, dtype: object\n",
            "65902    The Village: Vista Series\n",
            "Name: title, dtype: object\n",
            "195787    The Lord Of The Rings: The Return Of The King\n",
            "Name: title, dtype: object\n",
            "22996    The Lord of the Rings: The Fellowship of the Ring\n",
            "44923    The Lord of the Rings: The Fellowship of the Ring\n",
            "Name: title, dtype: object\n",
            "26814    The Lord of the Rings - The Two Towers VHS\n",
            "48741    The Lord of the Rings - The Two Towers VHS\n",
            "Name: title, dtype: object\n",
            "19419    The Incredibles (Mandarin Chinese Edition)\n",
            "Name: title, dtype: object\n",
            "200552    Lord of the Rings Return of the King 2 Disc Ex...\n",
            "Name: title, dtype: object\n",
            "26920    Pirates of the Caribbean: The Curse of the Bla...\n",
            "48847    Pirates of the Caribbean: The Curse of the Bla...\n",
            "Name: title, dtype: object\n",
            "35741    The Matrix Revolutions\n",
            "57668    The Matrix Revolutions\n",
            "Name: title, dtype: object\n",
            "26971    Fantastic Four\n",
            "48898    Fantastic Four\n",
            "Name: title, dtype: object\n",
            "42072    Van Helsing\n",
            "63999    Van Helsing\n",
            "Name: title, dtype: object\n"
          ]
        }
      ]
    },
    {
      "cell_type": "code",
      "source": [
        "similar_movies(relevant_items)"
      ],
      "metadata": {
        "colab": {
          "base_uri": "https://localhost:8080/"
        },
        "id": "OoB8pKXVePKF",
        "outputId": "394b6d7b-2a6d-4780-90ac-15c7fbbef3aa"
      },
      "id": "OoB8pKXVePKF",
      "execution_count": 54,
      "outputs": [
        {
          "output_type": "stream",
          "name": "stdout",
          "text": [
            "Series([], Name: title, dtype: object)\n",
            "Series([], Name: title, dtype: object)\n",
            "Series([], Name: title, dtype: object)\n",
            "Series([], Name: title, dtype: object)\n",
            "Series([], Name: title, dtype: object)\n",
            "127372    HP7: Deathly Hallows, P2 (DVD)\n",
            "Name: title, dtype: object\n",
            "Series([], Name: title, dtype: object)\n",
            "Series([], Name: title, dtype: object)\n",
            "163017    HP Double Feature: Year 7 (DBFE) (DVD)\n",
            "Name: title, dtype: object\n",
            "Series([], Name: title, dtype: object)\n",
            "Series([], Name: title, dtype: object)\n",
            "Series([], Name: title, dtype: object)\n",
            "Series([], Name: title, dtype: object)\n",
            "193564    Harry Potter and the Order of the Phoenix (Two...\n",
            "Name: title, dtype: object\n",
            "Series([], Name: title, dtype: object)\n",
            "Series([], Name: title, dtype: object)\n",
            "Series([], Name: title, dtype: object)\n",
            "Series([], Name: title, dtype: object)\n",
            "Series([], Name: title, dtype: object)\n",
            "Series([], Name: title, dtype: object)\n",
            "Series([], Name: title, dtype: object)\n",
            "Series([], Name: title, dtype: object)\n",
            "Series([], Name: title, dtype: object)\n",
            "Series([], Name: title, dtype: object)\n",
            "Series([], Name: title, dtype: object)\n",
            "Series([], Name: title, dtype: object)\n",
            "Series([], Name: title, dtype: object)\n",
            "147813    Harry Potter and the Order of the Phoenix/Harr...\n",
            "Name: title, dtype: object\n",
            "Series([], Name: title, dtype: object)\n",
            "Series([], Name: title, dtype: object)\n",
            "Series([], Name: title, dtype: object)\n",
            "Series([], Name: title, dtype: object)\n",
            "Series([], Name: title, dtype: object)\n",
            "Series([], Name: title, dtype: object)\n",
            "Series([], Name: title, dtype: object)\n",
            "Series([], Name: title, dtype: object)\n",
            "Series([], Name: title, dtype: object)\n",
            "Series([], Name: title, dtype: object)\n",
            "Series([], Name: title, dtype: object)\n",
            "Series([], Name: title, dtype: object)\n",
            "Series([], Name: title, dtype: object)\n",
            "Series([], Name: title, dtype: object)\n",
            "Series([], Name: title, dtype: object)\n",
            "163019    Harry Potter Double Feature: Harry Potter and ...\n",
            "Name: title, dtype: object\n",
            "Series([], Name: title, dtype: object)\n",
            "Series([], Name: title, dtype: object)\n",
            "Series([], Name: title, dtype: object)\n",
            "Series([], Name: title, dtype: object)\n",
            "32875    Journey to the Center of the Earth\n",
            "54802    Journey to the Center of the Earth\n",
            "Name: title, dtype: object\n",
            "Series([], Name: title, dtype: object)\n",
            "Series([], Name: title, dtype: object)\n",
            "Series([], Name: title, dtype: object)\n",
            "Series([], Name: title, dtype: object)\n",
            "Series([], Name: title, dtype: object)\n",
            "Series([], Name: title, dtype: object)\n",
            "142661    Real Steel\n",
            "Name: title, dtype: object\n",
            "Series([], Name: title, dtype: object)\n",
            "Series([], Name: title, dtype: object)\n",
            "Series([], Name: title, dtype: object)\n",
            "125619    Fantastic Mr. Fox\n",
            "Name: title, dtype: object\n",
            "Series([], Name: title, dtype: object)\n",
            "Series([], Name: title, dtype: object)\n",
            "Series([], Name: title, dtype: object)\n",
            "Series([], Name: title, dtype: object)\n",
            "Series([], Name: title, dtype: object)\n",
            "Series([], Name: title, dtype: object)\n",
            "Series([], Name: title, dtype: object)\n",
            "Series([], Name: title, dtype: object)\n",
            "Series([], Name: title, dtype: object)\n",
            "Series([], Name: title, dtype: object)\n",
            "Series([], Name: title, dtype: object)\n",
            "Series([], Name: title, dtype: object)\n",
            "Series([], Name: title, dtype: object)\n",
            "Series([], Name: title, dtype: object)\n",
            "Series([], Name: title, dtype: object)\n",
            "Series([], Name: title, dtype: object)\n",
            "Series([], Name: title, dtype: object)\n",
            "Series([], Name: title, dtype: object)\n",
            "Series([], Name: title, dtype: object)\n",
            "138860    Disney's A Christmas Carol\n",
            "Name: title, dtype: object\n",
            "Series([], Name: title, dtype: object)\n",
            "Series([], Name: title, dtype: object)\n",
            "Series([], Name: title, dtype: object)\n",
            "Series([], Name: title, dtype: object)\n",
            "Series([], Name: title, dtype: object)\n",
            "Series([], Name: title, dtype: object)\n",
            "Series([], Name: title, dtype: object)\n",
            "Series([], Name: title, dtype: object)\n",
            "163014    Harry Potter Double Feature: Harry Potter and ...\n",
            "Name: title, dtype: object\n",
            "Series([], Name: title, dtype: object)\n",
            "Series([], Name: title, dtype: object)\n",
            "Series([], Name: title, dtype: object)\n",
            "163017    HP Double Feature: Year 7 (DBFE) (DVD)\n",
            "Name: title, dtype: object\n",
            "Series([], Name: title, dtype: object)\n",
            "Series([], Name: title, dtype: object)\n",
            "193564    Harry Potter and the Order of the Phoenix (Two...\n",
            "Name: title, dtype: object\n",
            "Series([], Name: title, dtype: object)\n",
            "Series([], Name: title, dtype: object)\n",
            "Series([], Name: title, dtype: object)\n",
            "Series([], Name: title, dtype: object)\n",
            "117961    Harry Potter: Years 1-5\n",
            "Name: title, dtype: object\n",
            "Series([], Name: title, dtype: object)\n",
            "Series([], Name: title, dtype: object)\n",
            "Series([], Name: title, dtype: object)\n",
            "163019    Harry Potter Double Feature: Harry Potter and ...\n",
            "Name: title, dtype: object\n",
            "Series([], Name: title, dtype: object)\n",
            "Series([], Name: title, dtype: object)\n",
            "160223    Harry Potter: Wizard's Collection\n",
            "Name: title, dtype: object\n",
            "Series([], Name: title, dtype: object)\n",
            "Series([], Name: title, dtype: object)\n",
            "26992    Batman Begins\n",
            "48919    Batman Begins\n",
            "Name: title, dtype: object\n",
            "Series([], Name: title, dtype: object)\n",
            "Series([], Name: title, dtype: object)\n",
            "Series([], Name: title, dtype: object)\n",
            "Series([], Name: title, dtype: object)\n",
            "Series([], Name: title, dtype: object)\n",
            "Series([], Name: title, dtype: object)\n",
            "Series([], Name: title, dtype: object)\n",
            "Series([], Name: title, dtype: object)\n",
            "Series([], Name: title, dtype: object)\n",
            "Series([], Name: title, dtype: object)\n",
            "Series([], Name: title, dtype: object)\n",
            "Series([], Name: title, dtype: object)\n",
            "Series([], Name: title, dtype: object)\n",
            "Series([], Name: title, dtype: object)\n",
            "Series([], Name: title, dtype: object)\n",
            "Series([], Name: title, dtype: object)\n",
            "Series([], Name: title, dtype: object)\n",
            "Series([], Name: title, dtype: object)\n",
            "Series([], Name: title, dtype: object)\n",
            "Series([], Name: title, dtype: object)\n",
            "Series([], Name: title, dtype: object)\n",
            "Series([], Name: title, dtype: object)\n",
            "Series([], Name: title, dtype: object)\n",
            "Series([], Name: title, dtype: object)\n",
            "Series([], Name: title, dtype: object)\n"
          ]
        }
      ]
    },
    {
      "cell_type": "code",
      "source": [
        "def hits(ids):\n",
        "  hit = 0\n",
        "  for id in ids:\n",
        "    if id in relevant_items:\n",
        "      hit += 1\n",
        "  print(hit)"
      ],
      "metadata": {
        "id": "hh_8W4naqLcf"
      },
      "id": "hh_8W4naqLcf",
      "execution_count": 50,
      "outputs": []
    },
    {
      "cell_type": "code",
      "source": [
        "hits(similar_ids)"
      ],
      "metadata": {
        "colab": {
          "base_uri": "https://localhost:8080/"
        },
        "id": "cq0e1-sXd_N0",
        "outputId": "6d466f2b-4ad7-45ec-e6ab-de5147d04589"
      },
      "id": "cq0e1-sXd_N0",
      "execution_count": 55,
      "outputs": [
        {
          "output_type": "stream",
          "name": "stdout",
          "text": [
            "2\n"
          ]
        }
      ]
    },
    {
      "cell_type": "code",
      "source": [
        "relevant_items"
      ],
      "metadata": {
        "colab": {
          "base_uri": "https://localhost:8080/"
        },
        "id": "xYRdjJNmet-O",
        "outputId": "3e92c904-fd54-4989-9cbb-1b244e305745"
      },
      "id": "xYRdjJNmet-O",
      "execution_count": 44,
      "outputs": [
        {
          "output_type": "execute_result",
          "data": {
            "text/plain": [
              "['B000E6EK2Y',\n",
              " 'B01KKN0HYU',\n",
              " 'B002PMV9FG',\n",
              " 'B000W7F5SS',\n",
              " 'B001UV4XHY',\n",
              " 'B001UV4XIS',\n",
              " 'B01KKN0I1C',\n",
              " 'B07CQP6R9Y',\n",
              " 'B008UZA8FY',\n",
              " 'B01GWBPWTO',\n",
              " 'B07CPC394C',\n",
              " 'B004WO6WAM',\n",
              " 'B01GWC5TFU',\n",
              " 'B00UGQI3GG',\n",
              " 'B01KKN0I9E',\n",
              " 'B01KW24REK',\n",
              " 'B073LC2F8S',\n",
              " 'B07CPF532R',\n",
              " 'B01GWC6RGU',\n",
              " '0439139600',\n",
              " 'B01KW24RNQ',\n",
              " '0439139597',\n",
              " 'B01KKN0HZ4',\n",
              " '0439136369',\n",
              " 'B01KKN0I6W',\n",
              " 'B01KKN0I4Y',\n",
              " 'B07CXZ9C5B',\n",
              " 'B004WO6HT8',\n",
              " '6304698623',\n",
              " 'B000NVT0TI',\n",
              " 'B01KW24RC2',\n",
              " 'B01B80CM4W',\n",
              " 'B00006HBUJ',\n",
              " '0545791340',\n",
              " 'B00HE7YSKA',\n",
              " 'B00009TB5G',\n",
              " '0439358078',\n",
              " 'B00003CX5P',\n",
              " '0783225547',\n",
              " '0439136350',\n",
              " 'B00HWWUQWQ',\n",
              " 'B000VBJEEG',\n",
              " 'B075FSRZK8',\n",
              " 'B008UZDXEW',\n",
              " 'B07CQKS23B',\n",
              " 'B01I5IPP4E',\n",
              " 'B07BKM4N9B',\n",
              " '1549697137',\n",
              " 'B00007JMD8',\n",
              " 'B07G1THXKY',\n",
              " 'B00HFFE8HE',\n",
              " 'B01MTF4482',\n",
              " 'B000Y11B7G',\n",
              " 'B00005JN4W',\n",
              " '1510729313',\n",
              " 'B004A8ZWW4',\n",
              " 'B079KJLDF2',\n",
              " 'B07DQMJBHS',\n",
              " 'B07DL6X6ZJ',\n",
              " 'B001QOGYBI',\n",
              " '0545139708',\n",
              " '1338132326',\n",
              " 'B06XJKXY4R',\n",
              " 'B06ZYGQBQV',\n",
              " '133821666X',\n",
              " 'B07G2MYV7Z',\n",
              " 'B01MQMCIGJ',\n",
              " 'B07D493RWR',\n",
              " 'B079FLYB41',\n",
              " 'B015WVHVEY',\n",
              " '043935806X',\n",
              " 'B073VS8VCG',\n",
              " 'B077R2WHSB',\n",
              " '0545010225',\n",
              " '1338218395',\n",
              " 'B07FDT8PGV',\n",
              " '059035342X',\n",
              " 'B07CF6WRVT',\n",
              " '1338263897',\n",
              " 'B003NFM3JK',\n",
              " 'B01KKN0HZ4',\n",
              " 'B01KKN0HYU',\n",
              " 'B000E6EK2Y',\n",
              " 'B01KW24RNQ',\n",
              " 'B000W7F5SS',\n",
              " 'B002PMV9FG',\n",
              " 'B01KMWAV3Q',\n",
              " 'B01KMWAVM2',\n",
              " 'B008UZ949K',\n",
              " 'B01KKN0I1C',\n",
              " 'B07CPMYR82',\n",
              " 'B07CQP6R9Y',\n",
              " 'B008UZA8FY',\n",
              " 'B01GWBPWTO',\n",
              " 'B00H6T0NZA',\n",
              " 'B00UGQI3GG',\n",
              " 'B005OCFGTO',\n",
              " 'B07CPC394C',\n",
              " 'B00UB1MP92',\n",
              " 'B01C45OBKI',\n",
              " 'B001DPHDJ2',\n",
              " 'B004WO6WAM',\n",
              " 'B0002TV2WY',\n",
              " 'B01GWC5TFU',\n",
              " 'B008UZDXEW',\n",
              " 'B008UZ7N3E',\n",
              " 'B01C45O9YG',\n",
              " 'B007FSEAHY',\n",
              " 'B00H6TARD8',\n",
              " 'B07FSG5XT7',\n",
              " 'B00005JNJV',\n",
              " 'B0771HW47S',\n",
              " 'B002ZG980U',\n",
              " 'B004LWZWGA',\n",
              " 'B002Q4VPM0',\n",
              " 'B01GWC6RGU',\n",
              " 'B01LTHOAGC',\n",
              " 'B004LRPCSS',\n",
              " 'B076X2YHRF',\n",
              " 'B01C45O8S8',\n",
              " 'B073LWR8XD',\n",
              " 'B00YZH1PEY',\n",
              " 'B01N7BLIK1',\n",
              " 'B000VWYJ86',\n",
              " 'B01C45O9F0',\n",
              " 'B01JPYUZFQ',\n",
              " 'B01HOIXOHQ',\n",
              " 'B073WYD3CH',\n",
              " 'B000E33W26',\n",
              " 'B00UGPH2PA',\n",
              " 'B01N47BB16',\n",
              " 'B0013FDM7E',\n",
              " '0800195175',\n",
              " 'B000E33W1W',\n",
              " 'B00L04WB20',\n",
              " 'B07223GML6']"
            ]
          },
          "metadata": {},
          "execution_count": 44
        }
      ]
    },
    {
      "cell_type": "code",
      "source": [
        "metadata.loc[metadata['asin'] == 'B07448VCM1']['title']"
      ],
      "metadata": {
        "colab": {
          "base_uri": "https://localhost:8080/"
        },
        "id": "kyEDllNOeJ2K",
        "outputId": "c1ff07bc-13dd-4975-b2de-f219e21d45ed"
      },
      "id": "kyEDllNOeJ2K",
      "execution_count": 45,
      "outputs": [
        {
          "output_type": "execute_result",
          "data": {
            "text/plain": [
              "Series([], Name: title, dtype: object)"
            ]
          },
          "metadata": {},
          "execution_count": 45
        }
      ]
    },
    {
      "cell_type": "code",
      "source": [],
      "metadata": {
        "id": "g6y7BaCLe4QV"
      },
      "id": "g6y7BaCLe4QV",
      "execution_count": 45,
      "outputs": []
    }
  ],
  "metadata": {
    "kernelspec": {
      "display_name": "Python 3 (ipykernel)",
      "language": "python",
      "name": "python3"
    },
    "language_info": {
      "codemirror_mode": {
        "name": "ipython",
        "version": 3
      },
      "file_extension": ".py",
      "mimetype": "text/x-python",
      "name": "python",
      "nbconvert_exporter": "python",
      "pygments_lexer": "ipython3",
      "version": "3.9.7"
    },
    "colab": {
      "provenance": [],
      "machine_shape": "hm",
      "include_colab_link": true
    },
    "gpuClass": "premium"
  },
  "nbformat": 4,
  "nbformat_minor": 5
}