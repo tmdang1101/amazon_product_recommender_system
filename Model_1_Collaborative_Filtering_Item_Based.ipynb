{
  "cells": [
    {
      "cell_type": "markdown",
      "metadata": {
        "id": "view-in-github",
        "colab_type": "text"
      },
      "source": [
        "<a href=\"https://colab.research.google.com/github/tmdang1101/amazon_product_recommender_system/blob/main/Model_1_Collaborative_Filtering_Item_Based.ipynb\" target=\"_parent\"><img src=\"https://colab.research.google.com/assets/colab-badge.svg\" alt=\"Open In Colab\"/></a>"
      ]
    },
    {
      "cell_type": "markdown",
      "source": [
        "# Preliminaries #"
      ],
      "metadata": {
        "id": "vUEVw4jFCNYv"
      },
      "id": "vUEVw4jFCNYv"
    },
    {
      "cell_type": "code",
      "source": [
        "# Import libraries\n",
        "import numpy as np\n",
        "import pandas as pd\n",
        "import scipy.stats as ss\n",
        "import seaborn as sns\n",
        "import matplotlib.pyplot as plt\n",
        "\n",
        "from sklearn.metrics import mean_squared_error\n",
        "\n",
        "import gzip\n",
        "import json"
      ],
      "metadata": {
        "id": "8Y5_xlAnYUZl"
      },
      "id": "8Y5_xlAnYUZl",
      "execution_count": null,
      "outputs": []
    },
    {
      "cell_type": "code",
      "source": [
        "# Connects this notebook to Google Drive\n",
        "import os\n",
        "from google.colab import drive\n",
        "drive.mount('/content/drive', force_remount=True)\n",
        "\n",
        "pathname = \"/content/drive/My Drive/Recommender System/\"\n",
        "os.chdir(pathname)"
      ],
      "metadata": {
        "colab": {
          "base_uri": "https://localhost:8080/"
        },
        "id": "11NgBLSj3mRT",
        "outputId": "456be6d1-d928-4a5a-d457-af170d1c13c6"
      },
      "id": "11NgBLSj3mRT",
      "execution_count": null,
      "outputs": [
        {
          "output_type": "stream",
          "name": "stdout",
          "text": [
            "Mounted at /content/drive\n"
          ]
        }
      ]
    },
    {
      "cell_type": "markdown",
      "source": [
        "# Data Pre-Processing #"
      ],
      "metadata": {
        "id": "eJfXdRtzCVrh"
      },
      "id": "eJfXdRtzCVrh"
    },
    {
      "cell_type": "markdown",
      "source": [
        "## Ratings Dataset ##"
      ],
      "metadata": {
        "id": "oH_eWSdqCdyF"
      },
      "id": "oH_eWSdqCdyF"
    },
    {
      "cell_type": "code",
      "execution_count": null,
      "id": "bd42f124",
      "metadata": {
        "id": "bd42f124"
      },
      "outputs": [],
      "source": [
        "def parse(path):\n",
        "    g = gzip.open(path, 'rb')\n",
        "    for l in g:\n",
        "        yield json.loads(l)\n",
        "\n",
        "def getDF(path):\n",
        "    i = 0\n",
        "    df = {}\n",
        "    for d in parse(path):\n",
        "        new_d = []\n",
        "        new_d.append(d['overall'])\n",
        "        new_d.append(d['reviewerID'])\n",
        "        new_d.append(d['asin'])\n",
        "        df[i] = new_d\n",
        "        i += 1\n",
        "    return pd.DataFrame.from_dict(df, orient='index', columns=['overall', 'reviewerID', 'asin'])\n",
        "\n",
        "df = getDF('/content/drive/My Drive/Recommender System/Data/Movies_and_TV_5.json.gz')"
      ]
    },
    {
      "cell_type": "code",
      "execution_count": null,
      "id": "7308dbe2",
      "metadata": {
        "id": "7308dbe2",
        "outputId": "7ee627ca-9069-4f8c-f5d6-3ffddfe2ac33",
        "colab": {
          "base_uri": "https://localhost:8080/",
          "height": 206
        }
      },
      "outputs": [
        {
          "output_type": "execute_result",
          "data": {
            "text/plain": [
              "   overall      reviewerID        asin\n",
              "0      5.0  A2M1CU2IRZG0K9  0005089549\n",
              "1      5.0   AFTUJYISOFHY6  0005089549\n",
              "2      5.0  A3JVF9Y53BEOGC  000503860X\n",
              "3      5.0  A12VPEOEZS1KTC  000503860X\n",
              "4      5.0   ATLZNVLYKP9AZ  000503860X"
            ],
            "text/html": [
              "\n",
              "  <div id=\"df-cf047855-2e28-424c-8c7e-35056ad8c663\">\n",
              "    <div class=\"colab-df-container\">\n",
              "      <div>\n",
              "<style scoped>\n",
              "    .dataframe tbody tr th:only-of-type {\n",
              "        vertical-align: middle;\n",
              "    }\n",
              "\n",
              "    .dataframe tbody tr th {\n",
              "        vertical-align: top;\n",
              "    }\n",
              "\n",
              "    .dataframe thead th {\n",
              "        text-align: right;\n",
              "    }\n",
              "</style>\n",
              "<table border=\"1\" class=\"dataframe\">\n",
              "  <thead>\n",
              "    <tr style=\"text-align: right;\">\n",
              "      <th></th>\n",
              "      <th>overall</th>\n",
              "      <th>reviewerID</th>\n",
              "      <th>asin</th>\n",
              "    </tr>\n",
              "  </thead>\n",
              "  <tbody>\n",
              "    <tr>\n",
              "      <th>0</th>\n",
              "      <td>5.0</td>\n",
              "      <td>A2M1CU2IRZG0K9</td>\n",
              "      <td>0005089549</td>\n",
              "    </tr>\n",
              "    <tr>\n",
              "      <th>1</th>\n",
              "      <td>5.0</td>\n",
              "      <td>AFTUJYISOFHY6</td>\n",
              "      <td>0005089549</td>\n",
              "    </tr>\n",
              "    <tr>\n",
              "      <th>2</th>\n",
              "      <td>5.0</td>\n",
              "      <td>A3JVF9Y53BEOGC</td>\n",
              "      <td>000503860X</td>\n",
              "    </tr>\n",
              "    <tr>\n",
              "      <th>3</th>\n",
              "      <td>5.0</td>\n",
              "      <td>A12VPEOEZS1KTC</td>\n",
              "      <td>000503860X</td>\n",
              "    </tr>\n",
              "    <tr>\n",
              "      <th>4</th>\n",
              "      <td>5.0</td>\n",
              "      <td>ATLZNVLYKP9AZ</td>\n",
              "      <td>000503860X</td>\n",
              "    </tr>\n",
              "  </tbody>\n",
              "</table>\n",
              "</div>\n",
              "      <button class=\"colab-df-convert\" onclick=\"convertToInteractive('df-cf047855-2e28-424c-8c7e-35056ad8c663')\"\n",
              "              title=\"Convert this dataframe to an interactive table.\"\n",
              "              style=\"display:none;\">\n",
              "        \n",
              "  <svg xmlns=\"http://www.w3.org/2000/svg\" height=\"24px\"viewBox=\"0 0 24 24\"\n",
              "       width=\"24px\">\n",
              "    <path d=\"M0 0h24v24H0V0z\" fill=\"none\"/>\n",
              "    <path d=\"M18.56 5.44l.94 2.06.94-2.06 2.06-.94-2.06-.94-.94-2.06-.94 2.06-2.06.94zm-11 1L8.5 8.5l.94-2.06 2.06-.94-2.06-.94L8.5 2.5l-.94 2.06-2.06.94zm10 10l.94 2.06.94-2.06 2.06-.94-2.06-.94-.94-2.06-.94 2.06-2.06.94z\"/><path d=\"M17.41 7.96l-1.37-1.37c-.4-.4-.92-.59-1.43-.59-.52 0-1.04.2-1.43.59L10.3 9.45l-7.72 7.72c-.78.78-.78 2.05 0 2.83L4 21.41c.39.39.9.59 1.41.59.51 0 1.02-.2 1.41-.59l7.78-7.78 2.81-2.81c.8-.78.8-2.07 0-2.86zM5.41 20L4 18.59l7.72-7.72 1.47 1.35L5.41 20z\"/>\n",
              "  </svg>\n",
              "      </button>\n",
              "      \n",
              "  <style>\n",
              "    .colab-df-container {\n",
              "      display:flex;\n",
              "      flex-wrap:wrap;\n",
              "      gap: 12px;\n",
              "    }\n",
              "\n",
              "    .colab-df-convert {\n",
              "      background-color: #E8F0FE;\n",
              "      border: none;\n",
              "      border-radius: 50%;\n",
              "      cursor: pointer;\n",
              "      display: none;\n",
              "      fill: #1967D2;\n",
              "      height: 32px;\n",
              "      padding: 0 0 0 0;\n",
              "      width: 32px;\n",
              "    }\n",
              "\n",
              "    .colab-df-convert:hover {\n",
              "      background-color: #E2EBFA;\n",
              "      box-shadow: 0px 1px 2px rgba(60, 64, 67, 0.3), 0px 1px 3px 1px rgba(60, 64, 67, 0.15);\n",
              "      fill: #174EA6;\n",
              "    }\n",
              "\n",
              "    [theme=dark] .colab-df-convert {\n",
              "      background-color: #3B4455;\n",
              "      fill: #D2E3FC;\n",
              "    }\n",
              "\n",
              "    [theme=dark] .colab-df-convert:hover {\n",
              "      background-color: #434B5C;\n",
              "      box-shadow: 0px 1px 3px 1px rgba(0, 0, 0, 0.15);\n",
              "      filter: drop-shadow(0px 1px 2px rgba(0, 0, 0, 0.3));\n",
              "      fill: #FFFFFF;\n",
              "    }\n",
              "  </style>\n",
              "\n",
              "      <script>\n",
              "        const buttonEl =\n",
              "          document.querySelector('#df-cf047855-2e28-424c-8c7e-35056ad8c663 button.colab-df-convert');\n",
              "        buttonEl.style.display =\n",
              "          google.colab.kernel.accessAllowed ? 'block' : 'none';\n",
              "\n",
              "        async function convertToInteractive(key) {\n",
              "          const element = document.querySelector('#df-cf047855-2e28-424c-8c7e-35056ad8c663');\n",
              "          const dataTable =\n",
              "            await google.colab.kernel.invokeFunction('convertToInteractive',\n",
              "                                                     [key], {});\n",
              "          if (!dataTable) return;\n",
              "\n",
              "          const docLinkHtml = 'Like what you see? Visit the ' +\n",
              "            '<a target=\"_blank\" href=https://colab.research.google.com/notebooks/data_table.ipynb>data table notebook</a>'\n",
              "            + ' to learn more about interactive tables.';\n",
              "          element.innerHTML = '';\n",
              "          dataTable['output_type'] = 'display_data';\n",
              "          await google.colab.output.renderOutput(dataTable, element);\n",
              "          const docLink = document.createElement('div');\n",
              "          docLink.innerHTML = docLinkHtml;\n",
              "          element.appendChild(docLink);\n",
              "        }\n",
              "      </script>\n",
              "    </div>\n",
              "  </div>\n",
              "  "
            ]
          },
          "metadata": {},
          "execution_count": 4
        }
      ],
      "source": [
        "df.head()"
      ]
    },
    {
      "cell_type": "code",
      "execution_count": null,
      "id": "d2d5e5ba",
      "metadata": {
        "id": "d2d5e5ba",
        "outputId": "022e36fe-35ef-4725-a8fe-06a5a9d001d3",
        "colab": {
          "base_uri": "https://localhost:8080/"
        }
      },
      "outputs": [
        {
          "output_type": "execute_result",
          "data": {
            "text/plain": [
              "(3410019, 3)"
            ]
          },
          "metadata": {},
          "execution_count": 5
        }
      ],
      "source": [
        "df.shape"
      ]
    },
    {
      "cell_type": "code",
      "source": [
        "ss.describe(df['overall'])"
      ],
      "metadata": {
        "id": "xohdjL7flbe6",
        "colab": {
          "base_uri": "https://localhost:8080/"
        },
        "outputId": "17fca5d8-9242-4078-bf27-db01bbe9aa0e"
      },
      "id": "xohdjL7flbe6",
      "execution_count": null,
      "outputs": [
        {
          "output_type": "execute_result",
          "data": {
            "text/plain": [
              "DescribeResult(nobs=3410019, minmax=(1.0, 5.0), mean=4.221320174462371, variance=1.360619309461769, skewness=-1.4843835182448823, kurtosis=1.2016060314839265)"
            ]
          },
          "metadata": {},
          "execution_count": 6
        }
      ]
    },
    {
      "cell_type": "code",
      "execution_count": null,
      "id": "4eea6cf6",
      "metadata": {
        "id": "4eea6cf6"
      },
      "outputs": [],
      "source": [
        "# Main Training Set\n",
        "ratings = df[['reviewerID','asin','overall']]\n",
        "\n",
        "ratings.rename(columns={'reviewerID':'user_id'}, inplace=True)\n",
        "ratings.rename(columns={'asin':'product_id'}, inplace=True)\n",
        "ratings.rename(columns={'overall':'rating'}, inplace=True)"
      ]
    },
    {
      "cell_type": "code",
      "source": [
        "ratings.head()"
      ],
      "metadata": {
        "colab": {
          "base_uri": "https://localhost:8080/",
          "height": 206
        },
        "id": "r1swRtvUYncg",
        "outputId": "4d0e21be-2f03-4aa4-af5f-848531a31d03"
      },
      "id": "r1swRtvUYncg",
      "execution_count": null,
      "outputs": [
        {
          "output_type": "execute_result",
          "data": {
            "text/plain": [
              "          user_id  product_id  rating\n",
              "0  A2M1CU2IRZG0K9  0005089549     5.0\n",
              "1   AFTUJYISOFHY6  0005089549     5.0\n",
              "2  A3JVF9Y53BEOGC  000503860X     5.0\n",
              "3  A12VPEOEZS1KTC  000503860X     5.0\n",
              "4   ATLZNVLYKP9AZ  000503860X     5.0"
            ],
            "text/html": [
              "\n",
              "  <div id=\"df-db4b7a6f-7bcb-43ae-8a02-fe52afba5b5a\">\n",
              "    <div class=\"colab-df-container\">\n",
              "      <div>\n",
              "<style scoped>\n",
              "    .dataframe tbody tr th:only-of-type {\n",
              "        vertical-align: middle;\n",
              "    }\n",
              "\n",
              "    .dataframe tbody tr th {\n",
              "        vertical-align: top;\n",
              "    }\n",
              "\n",
              "    .dataframe thead th {\n",
              "        text-align: right;\n",
              "    }\n",
              "</style>\n",
              "<table border=\"1\" class=\"dataframe\">\n",
              "  <thead>\n",
              "    <tr style=\"text-align: right;\">\n",
              "      <th></th>\n",
              "      <th>user_id</th>\n",
              "      <th>product_id</th>\n",
              "      <th>rating</th>\n",
              "    </tr>\n",
              "  </thead>\n",
              "  <tbody>\n",
              "    <tr>\n",
              "      <th>0</th>\n",
              "      <td>A2M1CU2IRZG0K9</td>\n",
              "      <td>0005089549</td>\n",
              "      <td>5.0</td>\n",
              "    </tr>\n",
              "    <tr>\n",
              "      <th>1</th>\n",
              "      <td>AFTUJYISOFHY6</td>\n",
              "      <td>0005089549</td>\n",
              "      <td>5.0</td>\n",
              "    </tr>\n",
              "    <tr>\n",
              "      <th>2</th>\n",
              "      <td>A3JVF9Y53BEOGC</td>\n",
              "      <td>000503860X</td>\n",
              "      <td>5.0</td>\n",
              "    </tr>\n",
              "    <tr>\n",
              "      <th>3</th>\n",
              "      <td>A12VPEOEZS1KTC</td>\n",
              "      <td>000503860X</td>\n",
              "      <td>5.0</td>\n",
              "    </tr>\n",
              "    <tr>\n",
              "      <th>4</th>\n",
              "      <td>ATLZNVLYKP9AZ</td>\n",
              "      <td>000503860X</td>\n",
              "      <td>5.0</td>\n",
              "    </tr>\n",
              "  </tbody>\n",
              "</table>\n",
              "</div>\n",
              "      <button class=\"colab-df-convert\" onclick=\"convertToInteractive('df-db4b7a6f-7bcb-43ae-8a02-fe52afba5b5a')\"\n",
              "              title=\"Convert this dataframe to an interactive table.\"\n",
              "              style=\"display:none;\">\n",
              "        \n",
              "  <svg xmlns=\"http://www.w3.org/2000/svg\" height=\"24px\"viewBox=\"0 0 24 24\"\n",
              "       width=\"24px\">\n",
              "    <path d=\"M0 0h24v24H0V0z\" fill=\"none\"/>\n",
              "    <path d=\"M18.56 5.44l.94 2.06.94-2.06 2.06-.94-2.06-.94-.94-2.06-.94 2.06-2.06.94zm-11 1L8.5 8.5l.94-2.06 2.06-.94-2.06-.94L8.5 2.5l-.94 2.06-2.06.94zm10 10l.94 2.06.94-2.06 2.06-.94-2.06-.94-.94-2.06-.94 2.06-2.06.94z\"/><path d=\"M17.41 7.96l-1.37-1.37c-.4-.4-.92-.59-1.43-.59-.52 0-1.04.2-1.43.59L10.3 9.45l-7.72 7.72c-.78.78-.78 2.05 0 2.83L4 21.41c.39.39.9.59 1.41.59.51 0 1.02-.2 1.41-.59l7.78-7.78 2.81-2.81c.8-.78.8-2.07 0-2.86zM5.41 20L4 18.59l7.72-7.72 1.47 1.35L5.41 20z\"/>\n",
              "  </svg>\n",
              "      </button>\n",
              "      \n",
              "  <style>\n",
              "    .colab-df-container {\n",
              "      display:flex;\n",
              "      flex-wrap:wrap;\n",
              "      gap: 12px;\n",
              "    }\n",
              "\n",
              "    .colab-df-convert {\n",
              "      background-color: #E8F0FE;\n",
              "      border: none;\n",
              "      border-radius: 50%;\n",
              "      cursor: pointer;\n",
              "      display: none;\n",
              "      fill: #1967D2;\n",
              "      height: 32px;\n",
              "      padding: 0 0 0 0;\n",
              "      width: 32px;\n",
              "    }\n",
              "\n",
              "    .colab-df-convert:hover {\n",
              "      background-color: #E2EBFA;\n",
              "      box-shadow: 0px 1px 2px rgba(60, 64, 67, 0.3), 0px 1px 3px 1px rgba(60, 64, 67, 0.15);\n",
              "      fill: #174EA6;\n",
              "    }\n",
              "\n",
              "    [theme=dark] .colab-df-convert {\n",
              "      background-color: #3B4455;\n",
              "      fill: #D2E3FC;\n",
              "    }\n",
              "\n",
              "    [theme=dark] .colab-df-convert:hover {\n",
              "      background-color: #434B5C;\n",
              "      box-shadow: 0px 1px 3px 1px rgba(0, 0, 0, 0.15);\n",
              "      filter: drop-shadow(0px 1px 2px rgba(0, 0, 0, 0.3));\n",
              "      fill: #FFFFFF;\n",
              "    }\n",
              "  </style>\n",
              "\n",
              "      <script>\n",
              "        const buttonEl =\n",
              "          document.querySelector('#df-db4b7a6f-7bcb-43ae-8a02-fe52afba5b5a button.colab-df-convert');\n",
              "        buttonEl.style.display =\n",
              "          google.colab.kernel.accessAllowed ? 'block' : 'none';\n",
              "\n",
              "        async function convertToInteractive(key) {\n",
              "          const element = document.querySelector('#df-db4b7a6f-7bcb-43ae-8a02-fe52afba5b5a');\n",
              "          const dataTable =\n",
              "            await google.colab.kernel.invokeFunction('convertToInteractive',\n",
              "                                                     [key], {});\n",
              "          if (!dataTable) return;\n",
              "\n",
              "          const docLinkHtml = 'Like what you see? Visit the ' +\n",
              "            '<a target=\"_blank\" href=https://colab.research.google.com/notebooks/data_table.ipynb>data table notebook</a>'\n",
              "            + ' to learn more about interactive tables.';\n",
              "          element.innerHTML = '';\n",
              "          dataTable['output_type'] = 'display_data';\n",
              "          await google.colab.output.renderOutput(dataTable, element);\n",
              "          const docLink = document.createElement('div');\n",
              "          docLink.innerHTML = docLinkHtml;\n",
              "          element.appendChild(docLink);\n",
              "        }\n",
              "      </script>\n",
              "    </div>\n",
              "  </div>\n",
              "  "
            ]
          },
          "metadata": {},
          "execution_count": 8
        }
      ]
    },
    {
      "cell_type": "markdown",
      "source": [
        "## Metadata Dataset ##"
      ],
      "metadata": {
        "id": "O6A5k3LSCjS4"
      },
      "id": "O6A5k3LSCjS4"
    },
    {
      "cell_type": "code",
      "execution_count": null,
      "id": "2aefa121",
      "metadata": {
        "id": "2aefa121"
      },
      "outputs": [],
      "source": [
        "def getMetadataDF(path):\n",
        "    i = 0\n",
        "    df = {}\n",
        "    for d in parse(path):\n",
        "        new_d = []\n",
        "        new_d.append(d['title'])\n",
        "        new_d.append(d['also_buy'])\n",
        "        new_d.append(d['also_view'])\n",
        "        new_d.append(d['similar_item'])\n",
        "        new_d.append(d['asin'])\n",
        "        df[i] = new_d\n",
        "        i += 1\n",
        "    return pd.DataFrame.from_dict(df, orient='index', columns=['title', 'also_buy', 'also_view', 'similar_item', 'asin'])\n",
        "\n",
        "metadata = getMetadataDF('/content/drive/My Drive/Recommender System/Data/meta_Movies_and_TV.json.gz')"
      ]
    },
    {
      "cell_type": "code",
      "execution_count": null,
      "id": "9fcf9d28",
      "metadata": {
        "id": "9fcf9d28",
        "colab": {
          "base_uri": "https://localhost:8080/"
        },
        "outputId": "4f1d628b-5f13-4c86-c93f-354c52c251a7"
      },
      "outputs": [
        {
          "output_type": "execute_result",
          "data": {
            "text/plain": [
              "                                               title  \\\n",
              "0                Understanding Seizures and Epilepsy   \n",
              "1  Spirit Led&mdash;Moving By Grace In The Holy S...   \n",
              "2                  My Fair Pastry (Good Eats Vol. 9)   \n",
              "3  Barefoot Contessa (with Ina Garten), Entertain...   \n",
              "4                  Rise and Swine (Good Eats Vol. 7)   \n",
              "\n",
              "                                            also_buy  \\\n",
              "0                                                 []   \n",
              "1                                                 []   \n",
              "2                                                 []   \n",
              "3  [B002I5GNW4, B005WXPVMM, B009UY3W8O, B00N27ID1...   \n",
              "4                           [B000P1CKES, B000NR4CRM]   \n",
              "\n",
              "                                           also_view similar_item        asin  \n",
              "0                                                 []               0000695009  \n",
              "1                                                 []               0000791156  \n",
              "2                                                 []               0000143529  \n",
              "3  [B002I5GNW4, 0804187045, B009UY3W8O, 060960219...               0000143588  \n",
              "4                                       [B0015SVNXY]               0000143502  "
            ],
            "text/html": [
              "\n",
              "  <div id=\"df-2dd9af83-5c78-4396-893c-5e5b0d96afdb\">\n",
              "    <div class=\"colab-df-container\">\n",
              "      <div>\n",
              "<style scoped>\n",
              "    .dataframe tbody tr th:only-of-type {\n",
              "        vertical-align: middle;\n",
              "    }\n",
              "\n",
              "    .dataframe tbody tr th {\n",
              "        vertical-align: top;\n",
              "    }\n",
              "\n",
              "    .dataframe thead th {\n",
              "        text-align: right;\n",
              "    }\n",
              "</style>\n",
              "<table border=\"1\" class=\"dataframe\">\n",
              "  <thead>\n",
              "    <tr style=\"text-align: right;\">\n",
              "      <th></th>\n",
              "      <th>title</th>\n",
              "      <th>also_buy</th>\n",
              "      <th>also_view</th>\n",
              "      <th>similar_item</th>\n",
              "      <th>asin</th>\n",
              "    </tr>\n",
              "  </thead>\n",
              "  <tbody>\n",
              "    <tr>\n",
              "      <th>0</th>\n",
              "      <td>Understanding Seizures and Epilepsy</td>\n",
              "      <td>[]</td>\n",
              "      <td>[]</td>\n",
              "      <td></td>\n",
              "      <td>0000695009</td>\n",
              "    </tr>\n",
              "    <tr>\n",
              "      <th>1</th>\n",
              "      <td>Spirit Led&amp;mdash;Moving By Grace In The Holy S...</td>\n",
              "      <td>[]</td>\n",
              "      <td>[]</td>\n",
              "      <td></td>\n",
              "      <td>0000791156</td>\n",
              "    </tr>\n",
              "    <tr>\n",
              "      <th>2</th>\n",
              "      <td>My Fair Pastry (Good Eats Vol. 9)</td>\n",
              "      <td>[]</td>\n",
              "      <td>[]</td>\n",
              "      <td></td>\n",
              "      <td>0000143529</td>\n",
              "    </tr>\n",
              "    <tr>\n",
              "      <th>3</th>\n",
              "      <td>Barefoot Contessa (with Ina Garten), Entertain...</td>\n",
              "      <td>[B002I5GNW4, B005WXPVMM, B009UY3W8O, B00N27ID1...</td>\n",
              "      <td>[B002I5GNW4, 0804187045, B009UY3W8O, 060960219...</td>\n",
              "      <td></td>\n",
              "      <td>0000143588</td>\n",
              "    </tr>\n",
              "    <tr>\n",
              "      <th>4</th>\n",
              "      <td>Rise and Swine (Good Eats Vol. 7)</td>\n",
              "      <td>[B000P1CKES, B000NR4CRM]</td>\n",
              "      <td>[B0015SVNXY]</td>\n",
              "      <td></td>\n",
              "      <td>0000143502</td>\n",
              "    </tr>\n",
              "  </tbody>\n",
              "</table>\n",
              "</div>\n",
              "      <button class=\"colab-df-convert\" onclick=\"convertToInteractive('df-2dd9af83-5c78-4396-893c-5e5b0d96afdb')\"\n",
              "              title=\"Convert this dataframe to an interactive table.\"\n",
              "              style=\"display:none;\">\n",
              "        \n",
              "  <svg xmlns=\"http://www.w3.org/2000/svg\" height=\"24px\"viewBox=\"0 0 24 24\"\n",
              "       width=\"24px\">\n",
              "    <path d=\"M0 0h24v24H0V0z\" fill=\"none\"/>\n",
              "    <path d=\"M18.56 5.44l.94 2.06.94-2.06 2.06-.94-2.06-.94-.94-2.06-.94 2.06-2.06.94zm-11 1L8.5 8.5l.94-2.06 2.06-.94-2.06-.94L8.5 2.5l-.94 2.06-2.06.94zm10 10l.94 2.06.94-2.06 2.06-.94-2.06-.94-.94-2.06-.94 2.06-2.06.94z\"/><path d=\"M17.41 7.96l-1.37-1.37c-.4-.4-.92-.59-1.43-.59-.52 0-1.04.2-1.43.59L10.3 9.45l-7.72 7.72c-.78.78-.78 2.05 0 2.83L4 21.41c.39.39.9.59 1.41.59.51 0 1.02-.2 1.41-.59l7.78-7.78 2.81-2.81c.8-.78.8-2.07 0-2.86zM5.41 20L4 18.59l7.72-7.72 1.47 1.35L5.41 20z\"/>\n",
              "  </svg>\n",
              "      </button>\n",
              "      \n",
              "  <style>\n",
              "    .colab-df-container {\n",
              "      display:flex;\n",
              "      flex-wrap:wrap;\n",
              "      gap: 12px;\n",
              "    }\n",
              "\n",
              "    .colab-df-convert {\n",
              "      background-color: #E8F0FE;\n",
              "      border: none;\n",
              "      border-radius: 50%;\n",
              "      cursor: pointer;\n",
              "      display: none;\n",
              "      fill: #1967D2;\n",
              "      height: 32px;\n",
              "      padding: 0 0 0 0;\n",
              "      width: 32px;\n",
              "    }\n",
              "\n",
              "    .colab-df-convert:hover {\n",
              "      background-color: #E2EBFA;\n",
              "      box-shadow: 0px 1px 2px rgba(60, 64, 67, 0.3), 0px 1px 3px 1px rgba(60, 64, 67, 0.15);\n",
              "      fill: #174EA6;\n",
              "    }\n",
              "\n",
              "    [theme=dark] .colab-df-convert {\n",
              "      background-color: #3B4455;\n",
              "      fill: #D2E3FC;\n",
              "    }\n",
              "\n",
              "    [theme=dark] .colab-df-convert:hover {\n",
              "      background-color: #434B5C;\n",
              "      box-shadow: 0px 1px 3px 1px rgba(0, 0, 0, 0.15);\n",
              "      filter: drop-shadow(0px 1px 2px rgba(0, 0, 0, 0.3));\n",
              "      fill: #FFFFFF;\n",
              "    }\n",
              "  </style>\n",
              "\n",
              "      <script>\n",
              "        const buttonEl =\n",
              "          document.querySelector('#df-2dd9af83-5c78-4396-893c-5e5b0d96afdb button.colab-df-convert');\n",
              "        buttonEl.style.display =\n",
              "          google.colab.kernel.accessAllowed ? 'block' : 'none';\n",
              "\n",
              "        async function convertToInteractive(key) {\n",
              "          const element = document.querySelector('#df-2dd9af83-5c78-4396-893c-5e5b0d96afdb');\n",
              "          const dataTable =\n",
              "            await google.colab.kernel.invokeFunction('convertToInteractive',\n",
              "                                                     [key], {});\n",
              "          if (!dataTable) return;\n",
              "\n",
              "          const docLinkHtml = 'Like what you see? Visit the ' +\n",
              "            '<a target=\"_blank\" href=https://colab.research.google.com/notebooks/data_table.ipynb>data table notebook</a>'\n",
              "            + ' to learn more about interactive tables.';\n",
              "          element.innerHTML = '';\n",
              "          dataTable['output_type'] = 'display_data';\n",
              "          await google.colab.output.renderOutput(dataTable, element);\n",
              "          const docLink = document.createElement('div');\n",
              "          docLink.innerHTML = docLinkHtml;\n",
              "          element.appendChild(docLink);\n",
              "        }\n",
              "      </script>\n",
              "    </div>\n",
              "  </div>\n",
              "  "
            ]
          },
          "metadata": {},
          "execution_count": 10
        }
      ],
      "source": [
        "metadata.head()"
      ]
    },
    {
      "cell_type": "code",
      "execution_count": null,
      "id": "97672fb0",
      "metadata": {
        "id": "97672fb0",
        "colab": {
          "base_uri": "https://localhost:8080/"
        },
        "outputId": "3b1d5735-2922-4cb6-fb2c-cfa3abffcbb3"
      },
      "outputs": [
        {
          "output_type": "execute_result",
          "data": {
            "text/plain": [
              "(203766, 5)"
            ]
          },
          "metadata": {},
          "execution_count": 11
        }
      ],
      "source": [
        "metadata.shape"
      ]
    },
    {
      "cell_type": "markdown",
      "source": [
        "## Sparse Matrix ##"
      ],
      "metadata": {
        "id": "k7TRM6daCw33"
      },
      "id": "k7TRM6daCw33"
    },
    {
      "cell_type": "code",
      "source": [
        "# Creates Sparse Matrix as the Input\n",
        "from scipy.sparse import csr_matrix\n",
        "\n",
        "def create_X(df):\n",
        "    \"\"\"\n",
        "    Generates a sparse matrix from ratings dataframe.\n",
        "    \n",
        "    Args:\n",
        "        df: pandas dataframe\n",
        "    \n",
        "    Returns:\n",
        "        X: sparse matrix\n",
        "        user_mapper: dict that maps user id's to user indices\n",
        "        user_inv_mapper: dict that maps user indices to user id's\n",
        "        movie_mapper: dict that maps movie id's to movie indices\n",
        "        movie_inv_mapper: dict that maps movie indices to movie id's\n",
        "    \"\"\"\n",
        "    N = df['user_id'].nunique()\n",
        "    M = df['product_id'].nunique()\n",
        "\n",
        "    user_mapper = dict(zip(np.unique(df[\"user_id\"]), list(range(N))))\n",
        "    movie_mapper = dict(zip(np.unique(df[\"product_id\"]), list(range(M))))\n",
        "    \n",
        "    user_inv_mapper = dict(zip(list(range(N)), np.unique(df[\"user_id\"])))\n",
        "    movie_inv_mapper = dict(zip(list(range(M)), np.unique(df[\"product_id\"])))\n",
        "    \n",
        "    user_index = [user_mapper[i] for i in df['user_id']]\n",
        "    movie_index = [movie_mapper[i] for i in df['product_id']]\n",
        "\n",
        "    X = csr_matrix((df[\"rating\"], (movie_index, user_index)), shape=(M, N))\n",
        "    \n",
        "    return X, user_mapper, movie_mapper, user_inv_mapper, movie_inv_mapper"
      ],
      "metadata": {
        "id": "n7OD2fpQb_vP"
      },
      "id": "n7OD2fpQb_vP",
      "execution_count": null,
      "outputs": []
    },
    {
      "cell_type": "code",
      "source": [
        "X, user_mapper, movie_mapper, user_inv_mapper, movie_inv_mapper = create_X(ratings)"
      ],
      "metadata": {
        "id": "hQ3Da0wIjmaB"
      },
      "id": "hQ3Da0wIjmaB",
      "execution_count": null,
      "outputs": []
    },
    {
      "cell_type": "code",
      "source": [
        "X"
      ],
      "metadata": {
        "colab": {
          "base_uri": "https://localhost:8080/"
        },
        "id": "QFNuDiWelMOA",
        "outputId": "f5241211-7184-4872-e02a-bcecb2bd19a4"
      },
      "id": "QFNuDiWelMOA",
      "execution_count": null,
      "outputs": [
        {
          "output_type": "execute_result",
          "data": {
            "text/plain": [
              "<60175x297529 sparse matrix of type '<class 'numpy.float64'>'\n",
              "\twith 3282379 stored elements in Compressed Sparse Row format>"
            ]
          },
          "metadata": {},
          "execution_count": 14
        }
      ]
    },
    {
      "cell_type": "code",
      "source": [
        "sparsity = X.count_nonzero()/(X.shape[0]*X.shape[1])\n",
        "\n",
        "print(f\"Matrix sparsity: {round(sparsity*100,2)}%\")"
      ],
      "metadata": {
        "colab": {
          "base_uri": "https://localhost:8080/"
        },
        "id": "HRTmn2f7llas",
        "outputId": "98f0587d-16c2-43a9-886b-e3e20ac7eac6"
      },
      "id": "HRTmn2f7llas",
      "execution_count": null,
      "outputs": [
        {
          "output_type": "stream",
          "name": "stdout",
          "text": [
            "Matrix sparsity: 0.02%\n"
          ]
        }
      ]
    },
    {
      "cell_type": "markdown",
      "source": [
        "# Similiarity Model #"
      ],
      "metadata": {
        "id": "XMvDgRsFC4pP"
      },
      "id": "XMvDgRsFC4pP"
    },
    {
      "cell_type": "code",
      "source": [
        "from sklearn.neighbors import NearestNeighbors\n",
        "\n",
        "def find_similar_movies(movie_id, X, k, metric='cosine', show_distance=True):\n",
        "    \"\"\"\n",
        "    Finds k-nearest neighbours for a given movie id.\n",
        "    \n",
        "    Args:\n",
        "        movie_id: id of the movie of interest\n",
        "        X: user-item utility matrix\n",
        "        k: number of similar movies to retrieve\n",
        "        metric: distance metric for kNN calculations\n",
        "    \n",
        "    Returns:\n",
        "        list of k similar movie ID's\n",
        "    \"\"\"\n",
        "    neighbour_ids = []\n",
        "    \n",
        "    movie_ind = movie_mapper[movie_id]\n",
        "    movie_vec = X[movie_ind]\n",
        "    k+=1\n",
        "    kNN = NearestNeighbors(n_neighbors=k, algorithm=\"brute\", metric=metric)\n",
        "    kNN.fit(X)\n",
        "    if isinstance(movie_vec, (np.ndarray)):\n",
        "        movie_vec = movie_vec.reshape(1,-1)\n",
        "    neighbour = kNN.kneighbors(movie_vec, return_distance=show_distance)\n",
        "    for i in range(0,k):\n",
        "        n = neighbour[1].item(i)\n",
        "        neighbour_ids.append(movie_inv_mapper[n])\n",
        "    neighbour_ids.pop(0)\n",
        "    return neighbour_ids, neighbour[0]"
      ],
      "metadata": {
        "id": "-XynbdW3nJBZ"
      },
      "id": "-XynbdW3nJBZ",
      "execution_count": null,
      "outputs": []
    },
    {
      "cell_type": "markdown",
      "source": [
        "# Recommendation #"
      ],
      "metadata": {
        "id": "MVnBHZAJDh9_"
      },
      "id": "MVnBHZAJDh9_"
    },
    {
      "cell_type": "code",
      "source": [
        "#movie_id = 'B00IT70F3S'     # Avengers: Age of Ultron\n",
        "#movie_id = 'B00LYYUTEI'    # The Dark Knight\n",
        "movie_id = 'B00005JMAH'     # Harry Potter and the Prisoner of Azkaban\n",
        "\n",
        "similar_ids, similarity_distances = find_similar_movies(movie_id, X, k=10)\n",
        "\n",
        "print(f\"Because you watched {movie_id}:\\n\")\n",
        "for id in similar_ids:\n",
        "    print(f\"{id}\\n{metadata.loc[metadata['asin'] == id]['title']}\\n\")"
      ],
      "metadata": {
        "colab": {
          "base_uri": "https://localhost:8080/"
        },
        "id": "PYxfHuYDnsN2",
        "outputId": "d3208f5d-a149-405a-e65e-2fd473cadba5"
      },
      "id": "PYxfHuYDnsN2",
      "execution_count": null,
      "outputs": [
        {
          "output_type": "stream",
          "name": "stdout",
          "text": [
            "Because you watched B00005JMAH:\n",
            "\n",
            "B000E6EK3S\n",
            "79415    Harry Potter and the Goblet of Fire\n",
            "Name: title, dtype: object\n",
            "\n",
            "B00005JPI2\n",
            "27164    Harry Potter and the Order of the Phoenix\n",
            "49091    Harry Potter and the Order of the Phoenix\n",
            "Name: title, dtype: object\n",
            "\n",
            "B000ZECQ08\n",
            "105857    Harry Potter and the Half-Blood Prince\n",
            "Name: title, dtype: object\n",
            "\n",
            "B001UV4XI8\n",
            "127394     Harry Potter and the Deathly Hallows, Part 1 ...\n",
            "Name: title, dtype: object\n",
            "\n",
            "B001UV4XIS\n",
            "127372    HP7: Deathly Hallows, P2 (DVD)\n",
            "Name: title, dtype: object\n",
            "\n",
            "B00005JMQW\n",
            "26936    Spider-Man 2\n",
            "48863    Spider-Man 2\n",
            "Name: title, dtype: object\n",
            "\n",
            "B00005JMQZ\n",
            "26926    Shrek 2\n",
            "48853    Shrek 2\n",
            "Name: title, dtype: object\n",
            "\n",
            "B00005JKZY\n",
            "26792    The Lord of the Rings: The Return of the King\n",
            "48719    The Lord of the Rings: The Return of the King\n",
            "Name: title, dtype: object\n",
            "\n",
            "B00005JNJV\n",
            "26992    Batman Begins\n",
            "48919    Batman Begins\n",
            "Name: title, dtype: object\n",
            "\n",
            "7799146915\n",
            "19337    Star Wars: Episode III - Revenge of the Sith (...\n",
            "Name: title, dtype: object\n",
            "\n"
          ]
        }
      ]
    }
  ],
  "metadata": {
    "kernelspec": {
      "display_name": "Python 3 (ipykernel)",
      "language": "python",
      "name": "python3"
    },
    "language_info": {
      "codemirror_mode": {
        "name": "ipython",
        "version": 3
      },
      "file_extension": ".py",
      "mimetype": "text/x-python",
      "name": "python",
      "nbconvert_exporter": "python",
      "pygments_lexer": "ipython3",
      "version": "3.9.7"
    },
    "colab": {
      "provenance": [],
      "machine_shape": "hm",
      "include_colab_link": true
    },
    "gpuClass": "premium"
  },
  "nbformat": 4,
  "nbformat_minor": 5
}